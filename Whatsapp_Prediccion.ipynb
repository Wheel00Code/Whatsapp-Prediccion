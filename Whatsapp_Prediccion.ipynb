{
 "cells": [
  {
   "cell_type": "markdown",
   "id": "24694bf7",
   "metadata": {},
   "source": [
    "# Import "
   ]
  },
  {
   "cell_type": "code",
   "execution_count": 217,
   "id": "da9b138c",
   "metadata": {},
   "outputs": [],
   "source": [
    "import pandas as pd\n",
    "import numpy as np\n",
    "import seaborn as sns\n",
    "from datetime import datetime\n",
    "from math import *\n",
    "from datetime import datetime as date\n",
    "import matplotlib.pyplot as plt\n",
    "\n",
    "\n",
    "\n",
    "from sklearn.linear_model import LinearRegression\n",
    "from sklearn.linear_model import LogisticRegression\n",
    "from sklearn.tree import DecisionTreeClassifier\n",
    "from sklearn.model_selection import train_test_split\n",
    "from sklearn.metrics import r2_score, explained_variance_score, confusion_matrix, accuracy_score, classification_report, log_loss\n",
    "from math import sqrt"
   ]
  },
  {
   "cell_type": "markdown",
   "id": "622936a0",
   "metadata": {},
   "source": [
    "# DataFrame"
   ]
  },
  {
   "cell_type": "code",
   "execution_count": 219,
   "id": "6a9b57bc",
   "metadata": {},
   "outputs": [],
   "source": [
    "txtdata = pd.read_table(\".txt\") # --> Enter the .txt flie here"
   ]
  },
  {
   "cell_type": "markdown",
   "id": "53a72943",
   "metadata": {},
   "source": [
    "# Data cleaning"
   ]
  },
  {
   "cell_type": "markdown",
   "id": "e319bef6",
   "metadata": {},
   "source": [
    "## Separate the txt file in different columns"
   ]
  },
  {
   "cell_type": "code",
   "execution_count": 220,
   "id": "5e83f06d",
   "metadata": {},
   "outputs": [],
   "source": [
    "column_name = txtdata.columns[0]"
   ]
  },
  {
   "cell_type": "code",
   "execution_count": 221,
   "id": "fda94155",
   "metadata": {},
   "outputs": [],
   "source": [
    "txtdata[\"Date\"] = txtdata[column_name].str.split(\" \").str.get(0).str.title()\n",
    "\n",
    "txtdata[\"Hour\"] = txtdata[column_name].str.split(\" \").str.get(1).str.title()\n",
    "\n",
    "txtdata[\"Name\"] = txtdata[column_name].str.split(\" \").str.get(2).str.title()\n",
    "\n",
    "txtdata[\"Content\"] = txtdata[column_name].str.split(\":\").str.get(3)\n"
   ]
  },
  {
   "cell_type": "code",
   "execution_count": 222,
   "id": "1cb617b1",
   "metadata": {},
   "outputs": [],
   "source": [
    "columns_save = ['Date', 'Hour', 'Name', 'Content']\n",
    "df = txtdata[columns_save]"
   ]
  },
  {
   "cell_type": "code",
   "execution_count": 223,
   "id": "6e4bce87",
   "metadata": {},
   "outputs": [
    {
     "name": "stderr",
     "output_type": "stream",
     "text": [
      "C:\\Users\\ENRICR~1\\AppData\\Local\\Temp/ipykernel_5108/818377401.py:3: SettingWithCopyWarning: \n",
      "A value is trying to be set on a copy of a slice from a DataFrame.\n",
      "Try using .loc[row_indexer,col_indexer] = value instead\n",
      "\n",
      "See the caveats in the documentation: https://pandas.pydata.org/pandas-docs/stable/user_guide/indexing.html#returning-a-view-versus-a-copy\n",
      "  df[\"Date\"] = df[\"Date\"].str.split(\"[\").str.get(1)\n",
      "C:\\Users\\ENRICR~1\\AppData\\Local\\Temp/ipykernel_5108/818377401.py:5: SettingWithCopyWarning: \n",
      "A value is trying to be set on a copy of a slice from a DataFrame.\n",
      "Try using .loc[row_indexer,col_indexer] = value instead\n",
      "\n",
      "See the caveats in the documentation: https://pandas.pydata.org/pandas-docs/stable/user_guide/indexing.html#returning-a-view-versus-a-copy\n",
      "  df[\"Hour\"] = df[\"Hour\"].str.split(\"]\").str.get(0)\n",
      "C:\\Users\\ENRICR~1\\AppData\\Local\\Temp/ipykernel_5108/818377401.py:7: SettingWithCopyWarning: \n",
      "A value is trying to be set on a copy of a slice from a DataFrame.\n",
      "Try using .loc[row_indexer,col_indexer] = value instead\n",
      "\n",
      "See the caveats in the documentation: https://pandas.pydata.org/pandas-docs/stable/user_guide/indexing.html#returning-a-view-versus-a-copy\n",
      "  df[\"Name\"] = df[\"Name\"].str.split(\":\").str.get(0)\n"
     ]
    }
   ],
   "source": [
    "# Delet \"[\" brakets \"]\" and \":\" \n",
    "\n",
    "df[\"Date\"] = df[\"Date\"].str.split(\"[\").str.get(1)\n",
    "\n",
    "df[\"Hour\"] = df[\"Hour\"].str.split(\"]\").str.get(0)\n",
    "\n",
    "df[\"Name\"] = df[\"Name\"].str.split(\":\").str.get(0)"
   ]
  },
  {
   "cell_type": "code",
   "execution_count": 226,
   "id": "49dddc28",
   "metadata": {},
   "outputs": [
    {
     "data": {
      "text/html": [
       "<div>\n",
       "<style scoped>\n",
       "    .dataframe tbody tr th:only-of-type {\n",
       "        vertical-align: middle;\n",
       "    }\n",
       "\n",
       "    .dataframe tbody tr th {\n",
       "        vertical-align: top;\n",
       "    }\n",
       "\n",
       "    .dataframe thead th {\n",
       "        text-align: right;\n",
       "    }\n",
       "</style>\n",
       "<table border=\"1\" class=\"dataframe\">\n",
       "  <thead>\n",
       "    <tr style=\"text-align: right;\">\n",
       "      <th></th>\n",
       "      <th>Date</th>\n",
       "      <th>Hour</th>\n",
       "      <th>Name</th>\n",
       "      <th>Content</th>\n",
       "    </tr>\n",
       "  </thead>\n",
       "  <tbody>\n",
       "    <tr>\n",
       "      <th>11099</th>\n",
       "      <td>27/10/21</td>\n",
       "      <td>18:50:26</td>\n",
       "      <td>Berta</td>\n",
       "      <td>‎Videotrucada perduda</td>\n",
       "    </tr>\n",
       "  </tbody>\n",
       "</table>\n",
       "</div>"
      ],
      "text/plain": [
       "           Date      Hour   Name                 Content\n",
       "11099  27/10/21  18:50:26  Berta   ‎Videotrucada perduda"
      ]
     },
     "execution_count": 226,
     "metadata": {},
     "output_type": "execute_result"
    }
   ],
   "source": [
    "df[-1:]"
   ]
  },
  {
   "cell_type": "markdown",
   "id": "fa08730c",
   "metadata": {},
   "source": [
    "## Delet the Nan values"
   ]
  },
  {
   "cell_type": "code",
   "execution_count": 227,
   "id": "a75711cc",
   "metadata": {},
   "outputs": [
    {
     "data": {
      "text/html": [
       "<div>\n",
       "<style scoped>\n",
       "    .dataframe tbody tr th:only-of-type {\n",
       "        vertical-align: middle;\n",
       "    }\n",
       "\n",
       "    .dataframe tbody tr th {\n",
       "        vertical-align: top;\n",
       "    }\n",
       "\n",
       "    .dataframe thead th {\n",
       "        text-align: right;\n",
       "    }\n",
       "</style>\n",
       "<table border=\"1\" class=\"dataframe\">\n",
       "  <thead>\n",
       "    <tr style=\"text-align: right;\">\n",
       "      <th></th>\n",
       "      <th>Date</th>\n",
       "      <th>Hour</th>\n",
       "      <th>Name</th>\n",
       "      <th>Content</th>\n",
       "    </tr>\n",
       "  </thead>\n",
       "  <tbody>\n",
       "    <tr>\n",
       "      <th>2125</th>\n",
       "      <td>NaN</td>\n",
       "      <td>NaN</td>\n",
       "      <td>NaN</td>\n",
       "      <td>NaN</td>\n",
       "    </tr>\n",
       "    <tr>\n",
       "      <th>2444</th>\n",
       "      <td>NaN</td>\n",
       "      <td>Es</td>\n",
       "      <td>Un</td>\n",
       "      <td>NaN</td>\n",
       "    </tr>\n",
       "    <tr>\n",
       "      <th>2737</th>\n",
       "      <td>NaN</td>\n",
       "      <td>NaN</td>\n",
       "      <td>NaN</td>\n",
       "      <td>NaN</td>\n",
       "    </tr>\n",
       "    <tr>\n",
       "      <th>4543</th>\n",
       "      <td>NaN</td>\n",
       "      <td>NaN</td>\n",
       "      <td>NaN</td>\n",
       "      <td>NaN</td>\n",
       "    </tr>\n",
       "    <tr>\n",
       "      <th>5171</th>\n",
       "      <td>NaN</td>\n",
       "      <td>Decirte</td>\n",
       "      <td>Todo</td>\n",
       "      <td>NaN</td>\n",
       "    </tr>\n",
       "    <tr>\n",
       "      <th>5172</th>\n",
       "      <td>NaN</td>\n",
       "      <td>Sé,</td>\n",
       "      <td>Estoy</td>\n",
       "      <td>NaN</td>\n",
       "    </tr>\n",
       "    <tr>\n",
       "      <th>5173</th>\n",
       "      <td>NaN</td>\n",
       "      <td>Nada,</td>\n",
       "      <td>Que</td>\n",
       "      <td>NaN</td>\n",
       "    </tr>\n",
       "    <tr>\n",
       "      <th>5398</th>\n",
       "      <td>NaN</td>\n",
       "      <td>NaN</td>\n",
       "      <td>NaN</td>\n",
       "      <td>NaN</td>\n",
       "    </tr>\n",
       "    <tr>\n",
       "      <th>6709</th>\n",
       "      <td>NaN</td>\n",
       "      <td>NaN</td>\n",
       "      <td>NaN</td>\n",
       "      <td>NaN</td>\n",
       "    </tr>\n",
       "    <tr>\n",
       "      <th>8809</th>\n",
       "      <td>NaN</td>\n",
       "      <td>Https://Ubereats.App.Link/Kgfp9R8Tnfb</td>\n",
       "      <td>NaN</td>\n",
       "      <td>NaN</td>\n",
       "    </tr>\n",
       "    <tr>\n",
       "      <th>9004</th>\n",
       "      <td>NaN</td>\n",
       "      <td>NaN</td>\n",
       "      <td>NaN</td>\n",
       "      <td>NaN</td>\n",
       "    </tr>\n",
       "    <tr>\n",
       "      <th>9239</th>\n",
       "      <td>NaN</td>\n",
       "      <td>NaN</td>\n",
       "      <td>NaN</td>\n",
       "      <td>NaN</td>\n",
       "    </tr>\n",
       "    <tr>\n",
       "      <th>9708</th>\n",
       "      <td>NaN</td>\n",
       "      <td>NaN</td>\n",
       "      <td>NaN</td>\n",
       "      <td>NaN</td>\n",
       "    </tr>\n",
       "  </tbody>\n",
       "</table>\n",
       "</div>"
      ],
      "text/plain": [
       "     Date                                   Hour   Name Content\n",
       "2125  NaN                                    NaN    NaN     NaN\n",
       "2444  NaN                                     Es     Un     NaN\n",
       "2737  NaN                                    NaN    NaN     NaN\n",
       "4543  NaN                                    NaN    NaN     NaN\n",
       "5171  NaN                                Decirte   Todo     NaN\n",
       "5172  NaN                                    Sé,  Estoy     NaN\n",
       "5173  NaN                                  Nada,    Que     NaN\n",
       "5398  NaN                                    NaN    NaN     NaN\n",
       "6709  NaN                                    NaN    NaN     NaN\n",
       "8809  NaN  Https://Ubereats.App.Link/Kgfp9R8Tnfb    NaN     NaN\n",
       "9004  NaN                                    NaN    NaN     NaN\n",
       "9239  NaN                                    NaN    NaN     NaN\n",
       "9708  NaN                                    NaN    NaN     NaN"
      ]
     },
     "execution_count": 227,
     "metadata": {},
     "output_type": "execute_result"
    }
   ],
   "source": [
    "# Show all the columns that contain Nan\n",
    "\n",
    "df[df[\"Date\"].isna()]"
   ]
  },
  {
   "cell_type": "code",
   "execution_count": 228,
   "id": "de929394",
   "metadata": {},
   "outputs": [],
   "source": [
    "# Save the df without any nan values\n",
    "\n",
    "df = df[~df[\"Date\"].isna()]"
   ]
  },
  {
   "cell_type": "markdown",
   "id": "ea8e6a06",
   "metadata": {},
   "source": [
    "## Creat new columns"
   ]
  },
  {
   "cell_type": "markdown",
   "id": "82935176",
   "metadata": {},
   "source": [
    "### Len"
   ]
  },
  {
   "cell_type": "code",
   "execution_count": 229,
   "id": "e522755c",
   "metadata": {},
   "outputs": [
    {
     "name": "stderr",
     "output_type": "stream",
     "text": [
      "C:\\Users\\ENRICR~1\\AppData\\Local\\Temp/ipykernel_5108/3523385574.py:1: SettingWithCopyWarning: \n",
      "A value is trying to be set on a copy of a slice from a DataFrame.\n",
      "Try using .loc[row_indexer,col_indexer] = value instead\n",
      "\n",
      "See the caveats in the documentation: https://pandas.pydata.org/pandas-docs/stable/user_guide/indexing.html#returning-a-view-versus-a-copy\n",
      "  df[\"Len\"] = df[\"Content\"].str.len()\n",
      "C:\\Users\\ENRICR~1\\AppData\\Local\\Temp/ipykernel_5108/3523385574.py:2: SettingWithCopyWarning: \n",
      "A value is trying to be set on a copy of a slice from a DataFrame.\n",
      "Try using .loc[row_indexer,col_indexer] = value instead\n",
      "\n",
      "See the caveats in the documentation: https://pandas.pydata.org/pandas-docs/stable/user_guide/indexing.html#returning-a-view-versus-a-copy\n",
      "  df[\"Len\"] = df[\"Len\"] -1\n"
     ]
    }
   ],
   "source": [
    "df[\"Len\"] = df[\"Content\"].str.len()\n",
    "df[\"Len\"] = df[\"Len\"] -1"
   ]
  },
  {
   "cell_type": "markdown",
   "id": "24701559",
   "metadata": {},
   "source": [
    "### Date and hour"
   ]
  },
  {
   "cell_type": "code",
   "execution_count": 230,
   "id": "601f6c74",
   "metadata": {},
   "outputs": [
    {
     "name": "stderr",
     "output_type": "stream",
     "text": [
      "C:\\Users\\ENRICR~1\\AppData\\Local\\Temp/ipykernel_5108/1102387372.py:1: SettingWithCopyWarning: \n",
      "A value is trying to be set on a copy of a slice from a DataFrame.\n",
      "Try using .loc[row_indexer,col_indexer] = value instead\n",
      "\n",
      "See the caveats in the documentation: https://pandas.pydata.org/pandas-docs/stable/user_guide/indexing.html#returning-a-view-versus-a-copy\n",
      "  df[\"Date - Hour\"] = df[\"Date\"] + \" \" + df[\"Hour\"]\n"
     ]
    }
   ],
   "source": [
    "df[\"Date - Hour\"] = df[\"Date\"] + \" \" + df[\"Hour\"]"
   ]
  },
  {
   "cell_type": "code",
   "execution_count": 231,
   "id": "f5c3cb7a",
   "metadata": {},
   "outputs": [
    {
     "name": "stderr",
     "output_type": "stream",
     "text": [
      "C:\\Users\\ENRICR~1\\AppData\\Local\\Temp/ipykernel_5108/1387065450.py:1: SettingWithCopyWarning: \n",
      "A value is trying to be set on a copy of a slice from a DataFrame.\n",
      "Try using .loc[row_indexer,col_indexer] = value instead\n",
      "\n",
      "See the caveats in the documentation: https://pandas.pydata.org/pandas-docs/stable/user_guide/indexing.html#returning-a-view-versus-a-copy\n",
      "  df[\"Date - Hour\"] = df[\"Date - Hour\"] .astype('datetime64')\n"
     ]
    }
   ],
   "source": [
    "df[\"Date - Hour\"] = df[\"Date - Hour\"] .astype('datetime64')"
   ]
  },
  {
   "cell_type": "code",
   "execution_count": 232,
   "id": "f9983f78",
   "metadata": {},
   "outputs": [
    {
     "name": "stderr",
     "output_type": "stream",
     "text": [
      "C:\\Users\\ENRICR~1\\AppData\\Local\\Temp/ipykernel_5108/3758277598.py:1: SettingWithCopyWarning: \n",
      "A value is trying to be set on a copy of a slice from a DataFrame.\n",
      "Try using .loc[row_indexer,col_indexer] = value instead\n",
      "\n",
      "See the caveats in the documentation: https://pandas.pydata.org/pandas-docs/stable/user_guide/indexing.html#returning-a-view-versus-a-copy\n",
      "  df[\"Hour\"] = df[\"Hour\"].astype(\"datetime64\")\n"
     ]
    }
   ],
   "source": [
    "df[\"Hour\"] = df[\"Hour\"].astype(\"datetime64\")"
   ]
  },
  {
   "cell_type": "markdown",
   "id": "b97bf336",
   "metadata": {},
   "source": [
    "### Day of the week"
   ]
  },
  {
   "cell_type": "code",
   "execution_count": 233,
   "id": "7c40da4c",
   "metadata": {},
   "outputs": [
    {
     "name": "stderr",
     "output_type": "stream",
     "text": [
      "C:\\Users\\ENRICR~1\\AppData\\Local\\Temp/ipykernel_5108/1493547503.py:3: SettingWithCopyWarning: \n",
      "A value is trying to be set on a copy of a slice from a DataFrame.\n",
      "Try using .loc[row_indexer,col_indexer] = value instead\n",
      "\n",
      "See the caveats in the documentation: https://pandas.pydata.org/pandas-docs/stable/user_guide/indexing.html#returning-a-view-versus-a-copy\n",
      "  df[\"Day_of_week\"] = df[\"Date - Hour\"].dt.dayofweek\n"
     ]
    }
   ],
   "source": [
    "# Day of the week\n",
    "\n",
    "df[\"Day_of_week\"] = df[\"Date - Hour\"].dt.dayofweek"
   ]
  },
  {
   "cell_type": "code",
   "execution_count": 234,
   "id": "bd9ce54d",
   "metadata": {},
   "outputs": [
    {
     "name": "stderr",
     "output_type": "stream",
     "text": [
      "C:\\Users\\ENRICR~1\\AppData\\Local\\Temp/ipykernel_5108/2412434192.py:17: SettingWithCopyWarning: \n",
      "A value is trying to be set on a copy of a slice from a DataFrame.\n",
      "Try using .loc[row_indexer,col_indexer] = value instead\n",
      "\n",
      "See the caveats in the documentation: https://pandas.pydata.org/pandas-docs/stable/user_guide/indexing.html#returning-a-view-versus-a-copy\n",
      "  df[\"Day_of_week\"] = df[\"Day_of_week\"].apply(day_of_week)\n"
     ]
    }
   ],
   "source": [
    "def day_of_week (day):\n",
    "    if day == 0:\n",
    "        return \"Monday\"\n",
    "    if day == 1:\n",
    "        return \"Tuesday\"\n",
    "    if day == 2:\n",
    "        return \"Wednesday\"\n",
    "    if day == 3:\n",
    "        return \"Thursday\"\n",
    "    if day == 4:\n",
    "        return \"Friday\"\n",
    "    if day == 5:\n",
    "        return \"Saturday\"\n",
    "    else:\n",
    "        return \"Sunday\"\n",
    "\n",
    "df[\"Day_of_week\"] = df[\"Day_of_week\"].apply(day_of_week)"
   ]
  },
  {
   "cell_type": "markdown",
   "id": "b1bc1dd3",
   "metadata": {},
   "source": [
    "### Schedule"
   ]
  },
  {
   "cell_type": "code",
   "execution_count": 235,
   "id": "80a32a6e",
   "metadata": {},
   "outputs": [
    {
     "name": "stderr",
     "output_type": "stream",
     "text": [
      "C:\\Users\\ENRICR~1\\AppData\\Local\\Temp/ipykernel_5108/3749304880.py:1: SettingWithCopyWarning: \n",
      "A value is trying to be set on a copy of a slice from a DataFrame.\n",
      "Try using .loc[row_indexer,col_indexer] = value instead\n",
      "\n",
      "See the caveats in the documentation: https://pandas.pydata.org/pandas-docs/stable/user_guide/indexing.html#returning-a-view-versus-a-copy\n",
      "  df[\"H\"] = df[\"Date - Hour\"].dt.hour\n"
     ]
    }
   ],
   "source": [
    "df[\"H\"] = df[\"Date - Hour\"].dt.hour"
   ]
  },
  {
   "cell_type": "code",
   "execution_count": 236,
   "id": "ee78e352",
   "metadata": {},
   "outputs": [
    {
     "name": "stderr",
     "output_type": "stream",
     "text": [
      "C:\\Users\\ENRICR~1\\AppData\\Local\\Temp/ipykernel_5108/2158592753.py:4: SettingWithCopyWarning: \n",
      "A value is trying to be set on a copy of a slice from a DataFrame.\n",
      "Try using .loc[row_indexer,col_indexer] = value instead\n",
      "\n",
      "See the caveats in the documentation: https://pandas.pydata.org/pandas-docs/stable/user_guide/indexing.html#returning-a-view-versus-a-copy\n",
      "  df[\"Hora\"] = time\n"
     ]
    }
   ],
   "source": [
    "now = datetime.now()\n",
    "time = df[\"Date - Hour\"].dt.strftime(\"%H:%M:%S\")\n",
    "time = time.astype('datetime64')\n",
    "df[\"Hora\"] = time"
   ]
  },
  {
   "cell_type": "code",
   "execution_count": 237,
   "id": "c5227fed",
   "metadata": {},
   "outputs": [
    {
     "name": "stderr",
     "output_type": "stream",
     "text": [
      "C:\\Users\\ENRICR~1\\AppData\\Local\\Temp/ipykernel_5108/856702072.py:13: SettingWithCopyWarning: \n",
      "A value is trying to be set on a copy of a slice from a DataFrame.\n",
      "Try using .loc[row_indexer,col_indexer] = value instead\n",
      "\n",
      "See the caveats in the documentation: https://pandas.pydata.org/pandas-docs/stable/user_guide/indexing.html#returning-a-view-versus-a-copy\n",
      "  df[\"Schedule\"] = df[\"H\"].apply(between)\n"
     ]
    }
   ],
   "source": [
    "def between (h):\n",
    "        \n",
    "    \n",
    "    if (h == 22) or  (23 == h) or (h == 0) or (h == 1) or  (2 == h) or (h == 3) or (23 == 4) or (23 == 5):\n",
    "        return \"Night\"\n",
    "    \n",
    "    if (h >= 10) and  (h < 19):\n",
    "        return \"Work\"\n",
    "    \n",
    "    else: \n",
    "        return \"No Work\"\n",
    "\n",
    "df[\"Schedule\"] = df[\"H\"].apply(between)"
   ]
  },
  {
   "cell_type": "markdown",
   "id": "24d8b942",
   "metadata": {},
   "source": [
    "# Data Visualization"
   ]
  },
  {
   "cell_type": "markdown",
   "id": "edc4804c",
   "metadata": {},
   "source": [
    "## Hours with more messages"
   ]
  },
  {
   "cell_type": "code",
   "execution_count": 238,
   "id": "354be233",
   "metadata": {},
   "outputs": [
    {
     "data": {
      "text/plain": [
       "<AxesSubplot:xlabel='H', ylabel='count'>"
      ]
     },
     "execution_count": 238,
     "metadata": {},
     "output_type": "execute_result"
    },
    {
     "data": {
      "image/png": "[encoded data removed]",
      "text/plain": [
       "<Figure size 1800x720 with 1 Axes>"
      ]
     },
     "metadata": {},
     "output_type": "display_data"
    }
   ],
   "source": [
    "sns.countplot(x = df[\"H\"], data = df)"
   ]
  },
  {
   "cell_type": "markdown",
   "id": "470b8464",
   "metadata": {},
   "source": [
    "## Day of the week "
   ]
  },
  {
   "cell_type": "code",
   "execution_count": 239,
   "id": "d93f64a4",
   "metadata": {},
   "outputs": [
    {
     "data": {
      "text/plain": [
       "<AxesSubplot:xlabel='Day_of_week', ylabel='count'>"
      ]
     },
     "execution_count": 239,
     "metadata": {},
     "output_type": "execute_result"
    },
    {
     "data": {
      "image/png": "[encoded data removed]",
      "text/plain": [
       "<Figure size 1800x720 with 1 Axes>"
      ]
     },
     "metadata": {},
     "output_type": "display_data"
    }
   ],
   "source": [
    "sns.countplot(x =  df[\"Day_of_week\"], data = df )"
   ]
  },
  {
   "cell_type": "markdown",
   "id": "8c154c62",
   "metadata": {},
   "source": [
    "## Day of the week and schedule"
   ]
  },
  {
   "cell_type": "code",
   "execution_count": 240,
   "id": "645a0bc8",
   "metadata": {},
   "outputs": [
    {
     "data": {
      "text/plain": [
       "<AxesSubplot:xlabel='Day_of_week', ylabel='count'>"
      ]
     },
     "execution_count": 240,
     "metadata": {},
     "output_type": "execute_result"
    },
    {
     "data": {
      "image/png": "[encoded data removed]",
      "text/plain": [
       "<Figure size 1800x720 with 1 Axes>"
      ]
     },
     "metadata": {},
     "output_type": "display_data"
    }
   ],
   "source": [
    "sns.countplot(x =  df[\"Day_of_week\"], data = df, hue = df[\"Schedule\"] )"
   ]
  },
  {
   "cell_type": "markdown",
   "id": "2c8e7788",
   "metadata": {},
   "source": [
    "## Number of messages sent each one"
   ]
  },
  {
   "cell_type": "code",
   "execution_count": 241,
   "id": "6ded446e",
   "metadata": {},
   "outputs": [
    {
     "name": "stdout",
     "output_type": "stream",
     "text": [
      "Berta    0.628574\n",
      "Enric    0.371426\n",
      "Name: Name, dtype: float64\n"
     ]
    },
    {
     "data": {
      "text/plain": [
       "<AxesSubplot:xlabel='Name', ylabel='count'>"
      ]
     },
     "execution_count": 241,
     "metadata": {},
     "output_type": "execute_result"
    },
    {
     "data": {
      "image/png": "[encoded data removed]",
      "text/plain": [
       "<Figure size 1800x720 with 1 Axes>"
      ]
     },
     "metadata": {},
     "output_type": "display_data"
    }
   ],
   "source": [
    "print(df[\"Name\"].value_counts(normalize = True))\n",
    "sns.countplot(x = df[\"Name\"], data = df)"
   ]
  },
  {
   "cell_type": "markdown",
   "id": "aa260134",
   "metadata": {},
   "source": [
    "## Number of characters send it each one"
   ]
  },
  {
   "cell_type": "code",
   "execution_count": 242,
   "id": "a70db5d2",
   "metadata": {},
   "outputs": [
    {
     "name": "stdout",
     "output_type": "stream",
     "text": [
      "AxesSubplot(0.125,0.125;0.775x0.755)\n"
     ]
    },
    {
     "data": {
      "text/html": [
       "<div>\n",
       "<style scoped>\n",
       "    .dataframe tbody tr th:only-of-type {\n",
       "        vertical-align: middle;\n",
       "    }\n",
       "\n",
       "    .dataframe tbody tr th {\n",
       "        vertical-align: top;\n",
       "    }\n",
       "\n",
       "    .dataframe thead th {\n",
       "        text-align: right;\n",
       "    }\n",
       "</style>\n",
       "<table border=\"1\" class=\"dataframe\">\n",
       "  <thead>\n",
       "    <tr style=\"text-align: right;\">\n",
       "      <th></th>\n",
       "      <th>Len</th>\n",
       "    </tr>\n",
       "    <tr>\n",
       "      <th>Name</th>\n",
       "      <th></th>\n",
       "    </tr>\n",
       "  </thead>\n",
       "  <tbody>\n",
       "    <tr>\n",
       "      <th>Berta</th>\n",
       "      <td>110516</td>\n",
       "    </tr>\n",
       "    <tr>\n",
       "      <th>Enric</th>\n",
       "      <td>151919</td>\n",
       "    </tr>\n",
       "  </tbody>\n",
       "</table>\n",
       "</div>"
      ],
      "text/plain": [
       "          Len\n",
       "Name         \n",
       "Berta  110516\n",
       "Enric  151919"
      ]
     },
     "execution_count": 242,
     "metadata": {},
     "output_type": "execute_result"
    },
    {
     "data": {
      "image/png": "[encoded data removed]",
      "text/plain": [
       "<Figure size 1800x720 with 1 Axes>"
      ]
     },
     "metadata": {},
     "output_type": "display_data"
    }
   ],
   "source": [
    "print(df.groupby(df[\"Name\"]).agg({\"Len\":\"sum\"}).plot(kind = \"bar\"))\n",
    "df.groupby(df[\"Name\"]).agg({\"Len\":\"sum\"})"
   ]
  },
  {
   "cell_type": "markdown",
   "id": "f99314e7",
   "metadata": {},
   "source": [
    "## Average of characters for message:"
   ]
  },
  {
   "cell_type": "code",
   "execution_count": 243,
   "id": "d4d4c9b7",
   "metadata": {},
   "outputs": [
    {
     "data": {
      "text/html": [
       "<div>\n",
       "<style scoped>\n",
       "    .dataframe tbody tr th:only-of-type {\n",
       "        vertical-align: middle;\n",
       "    }\n",
       "\n",
       "    .dataframe tbody tr th {\n",
       "        vertical-align: top;\n",
       "    }\n",
       "\n",
       "    .dataframe thead th {\n",
       "        text-align: right;\n",
       "    }\n",
       "</style>\n",
       "<table border=\"1\" class=\"dataframe\">\n",
       "  <thead>\n",
       "    <tr style=\"text-align: right;\">\n",
       "      <th></th>\n",
       "      <th>Len</th>\n",
       "    </tr>\n",
       "    <tr>\n",
       "      <th>Name</th>\n",
       "      <th></th>\n",
       "    </tr>\n",
       "  </thead>\n",
       "  <tbody>\n",
       "    <tr>\n",
       "      <th>Berta</th>\n",
       "      <td>15.858229</td>\n",
       "    </tr>\n",
       "    <tr>\n",
       "      <th>Enric</th>\n",
       "      <td>36.891452</td>\n",
       "    </tr>\n",
       "  </tbody>\n",
       "</table>\n",
       "</div>"
      ],
      "text/plain": [
       "             Len\n",
       "Name            \n",
       "Berta  15.858229\n",
       "Enric  36.891452"
      ]
     },
     "execution_count": 243,
     "metadata": {},
     "output_type": "execute_result"
    },
    {
     "data": {
      "image/png": "[encoded data removed]",
      "text/plain": [
       "<Figure size 1800x720 with 1 Axes>"
      ]
     },
     "metadata": {},
     "output_type": "display_data"
    }
   ],
   "source": [
    "df.groupby(df[\"Name\"]).agg({\"Len\":\"mean\"}).plot(kind = \"bar\")\n",
    "df.groupby(df[\"Name\"]).agg({\"Len\":\"mean\"})"
   ]
  },
  {
   "cell_type": "markdown",
   "id": "b374997c",
   "metadata": {},
   "source": [
    "## Distribution during the differents weekdays and persons"
   ]
  },
  {
   "cell_type": "code",
   "execution_count": 244,
   "id": "c27d735d",
   "metadata": {},
   "outputs": [
    {
     "data": {
      "text/plain": [
       "<AxesSubplot:xlabel='Day_of_week', ylabel='Len'>"
      ]
     },
     "execution_count": 244,
     "metadata": {},
     "output_type": "execute_result"
    },
    {
     "data": {
      "image/png": "[encoded data removed]",
      "text/plain": [
       "<Figure size 1800x720 with 1 Axes>"
      ]
     },
     "metadata": {},
     "output_type": "display_data"
    }
   ],
   "source": [
    "# Len of the messages for each day of the week\n",
    "\n",
    "sns.barplot(x = df[\"Day_of_week\"], y = df[\"Len\"], data = df, hue = df[\"Name\"])"
   ]
  },
  {
   "cell_type": "code",
   "execution_count": 245,
   "id": "75595798",
   "metadata": {},
   "outputs": [
    {
     "data": {
      "text/plain": [
       "<AxesSubplot:xlabel='Day_of_week', ylabel='count'>"
      ]
     },
     "execution_count": 245,
     "metadata": {},
     "output_type": "execute_result"
    },
    {
     "data": {
      "image/png": "[encoded data removed]",
      "text/plain": [
       "<Figure size 1800x720 with 1 Axes>"
      ]
     },
     "metadata": {},
     "output_type": "display_data"
    }
   ],
   "source": [
    "# number of the messages for each day of the week\n",
    "\n",
    "sns.countplot(x = df[\"Day_of_week\"], data = df, hue = df[\"Name\"])"
   ]
  },
  {
   "cell_type": "markdown",
   "id": "46938b4f",
   "metadata": {},
   "source": [
    "# Gruop all the missatges"
   ]
  },
  {
   "cell_type": "code",
   "execution_count": 246,
   "id": "5b76bbd2",
   "metadata": {},
   "outputs": [
    {
     "name": "stderr",
     "output_type": "stream",
     "text": [
      "C:\\Users\\ENRICR~1\\AppData\\Local\\Temp/ipykernel_5108/3344879144.py:3: SettingWithCopyWarning: \n",
      "A value is trying to be set on a copy of a slice from a DataFrame.\n",
      "Try using .loc[row_indexer,col_indexer] = value instead\n",
      "\n",
      "See the caveats in the documentation: https://pandas.pydata.org/pandas-docs/stable/user_guide/indexing.html#returning-a-view-versus-a-copy\n",
      "  df[\"Change\"] = \"\"\n",
      "C:\\Users\\ENRICR~1\\AppData\\Local\\Temp/ipykernel_5108/3344879144.py:4: SettingWithCopyWarning: \n",
      "A value is trying to be set on a copy of a slice from a DataFrame.\n",
      "Try using .loc[row_indexer,col_indexer] = value instead\n",
      "\n",
      "See the caveats in the documentation: https://pandas.pydata.org/pandas-docs/stable/user_guide/indexing.html#returning-a-view-versus-a-copy\n",
      "  df[\"Count\"] = \"\"\n"
     ]
    }
   ],
   "source": [
    "# Crate a new column just to fill it after :\n",
    "\n",
    "df[\"Change\"] = \"\" \n",
    "df[\"Count\"] = \"\"\n",
    "\n",
    "# Max num of rows \n",
    "\n",
    "max_fun = df[\"Name\"].count()\n",
    "max_fun = max_fun - 1"
   ]
  },
  {
   "cell_type": "code",
   "execution_count": 247,
   "id": "f0148ab5",
   "metadata": {},
   "outputs": [
    {
     "name": "stderr",
     "output_type": "stream",
     "text": [
      "C:\\Users\\Enric Roda\\anaconda3\\envs\\kik_project\\lib\\site-packages\\pandas\\core\\indexing.py:1732: SettingWithCopyWarning: \n",
      "A value is trying to be set on a copy of a slice from a DataFrame\n",
      "\n",
      "See the caveats in the documentation: https://pandas.pydata.org/pandas-docs/stable/user_guide/indexing.html#returning-a-view-versus-a-copy\n",
      "  self._setitem_single_block(indexer, value, name)\n"
     ]
    },
    {
     "ename": "IndexError",
     "evalue": "single positional indexer is out-of-bounds",
     "output_type": "error",
     "traceback": [
      "\u001b[1;31m---------------------------------------------------------------------------\u001b[0m",
      "\u001b[1;31mIndexError\u001b[0m                                Traceback (most recent call last)",
      "\u001b[1;32mC:\\Users\\ENRICR~1\\AppData\\Local\\Temp/ipykernel_5108/2342986377.py\u001b[0m in \u001b[0;36m<module>\u001b[1;34m\u001b[0m\n\u001b[0;32m      4\u001b[0m \u001b[0mcoun\u001b[0m \u001b[1;33m=\u001b[0m \u001b[1;36m0\u001b[0m\u001b[1;33m\u001b[0m\u001b[1;33m\u001b[0m\u001b[0m\n\u001b[0;32m      5\u001b[0m \u001b[1;32mwhile\u001b[0m \u001b[0mi\u001b[0m \u001b[1;33m<=\u001b[0m \u001b[0mmax_fun\u001b[0m\u001b[1;33m:\u001b[0m\u001b[1;33m\u001b[0m\u001b[1;33m\u001b[0m\u001b[0m\n\u001b[1;32m----> 6\u001b[1;33m     \u001b[1;32mif\u001b[0m \u001b[1;33m(\u001b[0m\u001b[0mdf\u001b[0m\u001b[1;33m[\u001b[0m\u001b[1;34m\"Name\"\u001b[0m\u001b[1;33m]\u001b[0m\u001b[1;33m.\u001b[0m\u001b[0miloc\u001b[0m\u001b[1;33m[\u001b[0m\u001b[0mi\u001b[0m\u001b[1;33m+\u001b[0m\u001b[1;36m1\u001b[0m\u001b[1;33m]\u001b[0m \u001b[1;33m==\u001b[0m \u001b[0mdf\u001b[0m\u001b[1;33m[\u001b[0m\u001b[1;34m\"Name\"\u001b[0m\u001b[1;33m]\u001b[0m\u001b[1;33m.\u001b[0m\u001b[0miloc\u001b[0m\u001b[1;33m[\u001b[0m\u001b[0mi\u001b[0m\u001b[1;33m]\u001b[0m\u001b[1;33m)\u001b[0m\u001b[1;33m:\u001b[0m\u001b[1;33m\u001b[0m\u001b[1;33m\u001b[0m\u001b[0m\n\u001b[0m\u001b[0;32m      7\u001b[0m         \u001b[0mi\u001b[0m \u001b[1;33m=\u001b[0m \u001b[0mi\u001b[0m \u001b[1;33m+\u001b[0m \u001b[1;36m1\u001b[0m\u001b[1;33m\u001b[0m\u001b[1;33m\u001b[0m\u001b[0m\n\u001b[0;32m      8\u001b[0m         \u001b[0mdf\u001b[0m\u001b[1;33m[\u001b[0m\u001b[1;34m\"Change\"\u001b[0m\u001b[1;33m]\u001b[0m\u001b[1;33m.\u001b[0m\u001b[0miloc\u001b[0m\u001b[1;33m[\u001b[0m\u001b[0mi\u001b[0m\u001b[1;33m]\u001b[0m\u001b[1;33m=\u001b[0m \u001b[1;36m1\u001b[0m\u001b[1;33m\u001b[0m\u001b[1;33m\u001b[0m\u001b[0m\n",
      "\u001b[1;32m~\\anaconda3\\envs\\kik_project\\lib\\site-packages\\pandas\\core\\indexing.py\u001b[0m in \u001b[0;36m__getitem__\u001b[1;34m(self, key)\u001b[0m\n\u001b[0;32m    929\u001b[0m \u001b[1;33m\u001b[0m\u001b[0m\n\u001b[0;32m    930\u001b[0m             \u001b[0mmaybe_callable\u001b[0m \u001b[1;33m=\u001b[0m \u001b[0mcom\u001b[0m\u001b[1;33m.\u001b[0m\u001b[0mapply_if_callable\u001b[0m\u001b[1;33m(\u001b[0m\u001b[0mkey\u001b[0m\u001b[1;33m,\u001b[0m \u001b[0mself\u001b[0m\u001b[1;33m.\u001b[0m\u001b[0mobj\u001b[0m\u001b[1;33m)\u001b[0m\u001b[1;33m\u001b[0m\u001b[1;33m\u001b[0m\u001b[0m\n\u001b[1;32m--> 931\u001b[1;33m             \u001b[1;32mreturn\u001b[0m \u001b[0mself\u001b[0m\u001b[1;33m.\u001b[0m\u001b[0m_getitem_axis\u001b[0m\u001b[1;33m(\u001b[0m\u001b[0mmaybe_callable\u001b[0m\u001b[1;33m,\u001b[0m \u001b[0maxis\u001b[0m\u001b[1;33m=\u001b[0m\u001b[0maxis\u001b[0m\u001b[1;33m)\u001b[0m\u001b[1;33m\u001b[0m\u001b[1;33m\u001b[0m\u001b[0m\n\u001b[0m\u001b[0;32m    932\u001b[0m \u001b[1;33m\u001b[0m\u001b[0m\n\u001b[0;32m    933\u001b[0m     \u001b[1;32mdef\u001b[0m \u001b[0m_is_scalar_access\u001b[0m\u001b[1;33m(\u001b[0m\u001b[0mself\u001b[0m\u001b[1;33m,\u001b[0m \u001b[0mkey\u001b[0m\u001b[1;33m:\u001b[0m \u001b[0mtuple\u001b[0m\u001b[1;33m)\u001b[0m\u001b[1;33m:\u001b[0m\u001b[1;33m\u001b[0m\u001b[1;33m\u001b[0m\u001b[0m\n",
      "\u001b[1;32m~\\anaconda3\\envs\\kik_project\\lib\\site-packages\\pandas\\core\\indexing.py\u001b[0m in \u001b[0;36m_getitem_axis\u001b[1;34m(self, key, axis)\u001b[0m\n\u001b[0;32m   1564\u001b[0m \u001b[1;33m\u001b[0m\u001b[0m\n\u001b[0;32m   1565\u001b[0m             \u001b[1;31m# validate the location\u001b[0m\u001b[1;33m\u001b[0m\u001b[1;33m\u001b[0m\u001b[1;33m\u001b[0m\u001b[0m\n\u001b[1;32m-> 1566\u001b[1;33m             \u001b[0mself\u001b[0m\u001b[1;33m.\u001b[0m\u001b[0m_validate_integer\u001b[0m\u001b[1;33m(\u001b[0m\u001b[0mkey\u001b[0m\u001b[1;33m,\u001b[0m \u001b[0maxis\u001b[0m\u001b[1;33m)\u001b[0m\u001b[1;33m\u001b[0m\u001b[1;33m\u001b[0m\u001b[0m\n\u001b[0m\u001b[0;32m   1567\u001b[0m \u001b[1;33m\u001b[0m\u001b[0m\n\u001b[0;32m   1568\u001b[0m             \u001b[1;32mreturn\u001b[0m \u001b[0mself\u001b[0m\u001b[1;33m.\u001b[0m\u001b[0mobj\u001b[0m\u001b[1;33m.\u001b[0m\u001b[0m_ixs\u001b[0m\u001b[1;33m(\u001b[0m\u001b[0mkey\u001b[0m\u001b[1;33m,\u001b[0m \u001b[0maxis\u001b[0m\u001b[1;33m=\u001b[0m\u001b[0maxis\u001b[0m\u001b[1;33m)\u001b[0m\u001b[1;33m\u001b[0m\u001b[1;33m\u001b[0m\u001b[0m\n",
      "\u001b[1;32m~\\anaconda3\\envs\\kik_project\\lib\\site-packages\\pandas\\core\\indexing.py\u001b[0m in \u001b[0;36m_validate_integer\u001b[1;34m(self, key, axis)\u001b[0m\n\u001b[0;32m   1498\u001b[0m         \u001b[0mlen_axis\u001b[0m \u001b[1;33m=\u001b[0m \u001b[0mlen\u001b[0m\u001b[1;33m(\u001b[0m\u001b[0mself\u001b[0m\u001b[1;33m.\u001b[0m\u001b[0mobj\u001b[0m\u001b[1;33m.\u001b[0m\u001b[0m_get_axis\u001b[0m\u001b[1;33m(\u001b[0m\u001b[0maxis\u001b[0m\u001b[1;33m)\u001b[0m\u001b[1;33m)\u001b[0m\u001b[1;33m\u001b[0m\u001b[1;33m\u001b[0m\u001b[0m\n\u001b[0;32m   1499\u001b[0m         \u001b[1;32mif\u001b[0m \u001b[0mkey\u001b[0m \u001b[1;33m>=\u001b[0m \u001b[0mlen_axis\u001b[0m \u001b[1;32mor\u001b[0m \u001b[0mkey\u001b[0m \u001b[1;33m<\u001b[0m \u001b[1;33m-\u001b[0m\u001b[0mlen_axis\u001b[0m\u001b[1;33m:\u001b[0m\u001b[1;33m\u001b[0m\u001b[1;33m\u001b[0m\u001b[0m\n\u001b[1;32m-> 1500\u001b[1;33m             \u001b[1;32mraise\u001b[0m \u001b[0mIndexError\u001b[0m\u001b[1;33m(\u001b[0m\u001b[1;34m\"single positional indexer is out-of-bounds\"\u001b[0m\u001b[1;33m)\u001b[0m\u001b[1;33m\u001b[0m\u001b[1;33m\u001b[0m\u001b[0m\n\u001b[0m\u001b[0;32m   1501\u001b[0m \u001b[1;33m\u001b[0m\u001b[0m\n\u001b[0;32m   1502\u001b[0m     \u001b[1;31m# -------------------------------------------------------------------\u001b[0m\u001b[1;33m\u001b[0m\u001b[1;33m\u001b[0m\u001b[1;33m\u001b[0m\u001b[0m\n",
      "\u001b[1;31mIndexError\u001b[0m: single positional indexer is out-of-bounds"
     ]
    }
   ],
   "source": [
    "# Create a loop that detects when it change writer, and count all the changes\n",
    "\n",
    "# Get and Error but sill work\n",
    "i = 0\n",
    "coun = 0\n",
    "while i <= max_fun:\n",
    "    if (df[\"Name\"].iloc[i+1] == df[\"Name\"].iloc[i]):\n",
    "        i = i + 1\n",
    "        df[\"Change\"].iloc[i]= 1\n",
    "        \n",
    "        \n",
    "        df[\"Count\"].iloc[i ] = coun\n",
    "       \n",
    "    else: \n",
    "        i = i + 1\n",
    "        df[\"Change\"].iloc[i] = 0\n",
    "        \n",
    "        coun = coun + 1\n",
    "        df[\"Count\"].iloc[i] = coun"
   ]
  },
  {
   "cell_type": "code",
   "execution_count": 248,
   "id": "5670c410",
   "metadata": {},
   "outputs": [
    {
     "name": "stderr",
     "output_type": "stream",
     "text": [
      "C:\\Users\\ENRICR~1\\AppData\\Local\\Temp/ipykernel_5108/3948727821.py:3: SettingWithCopyWarning: \n",
      "A value is trying to be set on a copy of a slice from a DataFrame.\n",
      "Try using .loc[row_indexer,col_indexer] = value instead\n",
      "\n",
      "See the caveats in the documentation: https://pandas.pydata.org/pandas-docs/stable/user_guide/indexing.html#returning-a-view-versus-a-copy\n",
      "  df[\"First_H\"] = df.drop_duplicates(subset = [\"Count\"], keep = \"first\")[\"Date - Hour\"]\n",
      "C:\\Users\\ENRICR~1\\AppData\\Local\\Temp/ipykernel_5108/3948727821.py:4: SettingWithCopyWarning: \n",
      "A value is trying to be set on a copy of a slice from a DataFrame.\n",
      "Try using .loc[row_indexer,col_indexer] = value instead\n",
      "\n",
      "See the caveats in the documentation: https://pandas.pydata.org/pandas-docs/stable/user_guide/indexing.html#returning-a-view-versus-a-copy\n",
      "  df[\"Last_H\"] = df.drop_duplicates(subset = [\"Count\"], keep = \"last\")[\"Date - Hour\"]\n"
     ]
    },
    {
     "data": {
      "text/html": [
       "<div>\n",
       "<style scoped>\n",
       "    .dataframe tbody tr th:only-of-type {\n",
       "        vertical-align: middle;\n",
       "    }\n",
       "\n",
       "    .dataframe tbody tr th {\n",
       "        vertical-align: top;\n",
       "    }\n",
       "\n",
       "    .dataframe thead th {\n",
       "        text-align: right;\n",
       "    }\n",
       "</style>\n",
       "<table border=\"1\" class=\"dataframe\">\n",
       "  <thead>\n",
       "    <tr style=\"text-align: right;\">\n",
       "      <th></th>\n",
       "      <th>Date</th>\n",
       "      <th>Hour</th>\n",
       "      <th>Name</th>\n",
       "      <th>Content</th>\n",
       "      <th>Len</th>\n",
       "      <th>Date - Hour</th>\n",
       "      <th>Day_of_week</th>\n",
       "      <th>H</th>\n",
       "      <th>Hora</th>\n",
       "      <th>Schedule</th>\n",
       "      <th>Change</th>\n",
       "      <th>Count</th>\n",
       "      <th>First_H</th>\n",
       "      <th>Last_H</th>\n",
       "    </tr>\n",
       "  </thead>\n",
       "  <tbody>\n",
       "    <tr>\n",
       "      <th>0</th>\n",
       "      <td>15/12/19</td>\n",
       "      <td>2021-10-28 11:00:44</td>\n",
       "      <td>Berta</td>\n",
       "      <td>Menjem els ous</td>\n",
       "      <td>14</td>\n",
       "      <td>2019-12-15 11:00:44</td>\n",
       "      <td>Sunday</td>\n",
       "      <td>11</td>\n",
       "      <td>2021-10-28 11:00:44</td>\n",
       "      <td>Work</td>\n",
       "      <td></td>\n",
       "      <td></td>\n",
       "      <td>2019-12-15 11:00:44</td>\n",
       "      <td>2019-12-15 11:00:44</td>\n",
       "    </tr>\n",
       "    <tr>\n",
       "      <th>1</th>\n",
       "      <td>15/12/19</td>\n",
       "      <td>2021-10-28 15:29:36</td>\n",
       "      <td>Berta</td>\n",
       "      <td>Kiiikeleekk</td>\n",
       "      <td>11</td>\n",
       "      <td>2019-12-15 15:29:36</td>\n",
       "      <td>Sunday</td>\n",
       "      <td>15</td>\n",
       "      <td>2021-10-28 15:29:36</td>\n",
       "      <td>Work</td>\n",
       "      <td>1</td>\n",
       "      <td>0</td>\n",
       "      <td>2019-12-15 15:29:36</td>\n",
       "      <td>2019-12-15 15:29:36</td>\n",
       "    </tr>\n",
       "    <tr>\n",
       "      <th>2</th>\n",
       "      <td>15/12/19</td>\n",
       "      <td>2021-10-28 15:59:31</td>\n",
       "      <td>Enric</td>\n",
       "      <td>Keik</td>\n",
       "      <td>4</td>\n",
       "      <td>2019-12-15 15:59:31</td>\n",
       "      <td>Sunday</td>\n",
       "      <td>15</td>\n",
       "      <td>2021-10-28 15:59:31</td>\n",
       "      <td>Work</td>\n",
       "      <td>0</td>\n",
       "      <td>1</td>\n",
       "      <td>2019-12-15 15:59:31</td>\n",
       "      <td>NaT</td>\n",
       "    </tr>\n",
       "    <tr>\n",
       "      <th>3</th>\n",
       "      <td>15/12/19</td>\n",
       "      <td>2021-10-28 18:48:05</td>\n",
       "      <td>Enric</td>\n",
       "      <td>Passem stikers</td>\n",
       "      <td>14</td>\n",
       "      <td>2019-12-15 18:48:05</td>\n",
       "      <td>Sunday</td>\n",
       "      <td>18</td>\n",
       "      <td>2021-10-28 18:48:05</td>\n",
       "      <td>Work</td>\n",
       "      <td>1</td>\n",
       "      <td>1</td>\n",
       "      <td>NaT</td>\n",
       "      <td>2019-12-15 18:48:05</td>\n",
       "    </tr>\n",
       "    <tr>\n",
       "      <th>4</th>\n",
       "      <td>15/12/19</td>\n",
       "      <td>2021-10-28 18:50:05</td>\n",
       "      <td>Berta</td>\n",
       "      <td>‎enganxina omesa</td>\n",
       "      <td>16</td>\n",
       "      <td>2019-12-15 18:50:05</td>\n",
       "      <td>Sunday</td>\n",
       "      <td>18</td>\n",
       "      <td>2021-10-28 18:50:05</td>\n",
       "      <td>Work</td>\n",
       "      <td>0</td>\n",
       "      <td>2</td>\n",
       "      <td>2019-12-15 18:50:05</td>\n",
       "      <td>NaT</td>\n",
       "    </tr>\n",
       "    <tr>\n",
       "      <th>...</th>\n",
       "      <td>...</td>\n",
       "      <td>...</td>\n",
       "      <td>...</td>\n",
       "      <td>...</td>\n",
       "      <td>...</td>\n",
       "      <td>...</td>\n",
       "      <td>...</td>\n",
       "      <td>...</td>\n",
       "      <td>...</td>\n",
       "      <td>...</td>\n",
       "      <td>...</td>\n",
       "      <td>...</td>\n",
       "      <td>...</td>\n",
       "      <td>...</td>\n",
       "    </tr>\n",
       "    <tr>\n",
       "      <th>11095</th>\n",
       "      <td>24/10/21</td>\n",
       "      <td>2021-10-28 18:18:30</td>\n",
       "      <td>Berta</td>\n",
       "      <td>Tot això es ganancia</td>\n",
       "      <td>20</td>\n",
       "      <td>2021-10-24 18:18:30</td>\n",
       "      <td>Sunday</td>\n",
       "      <td>18</td>\n",
       "      <td>2021-10-28 18:18:30</td>\n",
       "      <td>Work</td>\n",
       "      <td>1</td>\n",
       "      <td>4660</td>\n",
       "      <td>NaT</td>\n",
       "      <td>2021-10-24 18:18:30</td>\n",
       "    </tr>\n",
       "    <tr>\n",
       "      <th>11096</th>\n",
       "      <td>24/10/21</td>\n",
       "      <td>2021-10-28 18:59:42</td>\n",
       "      <td>Enric</td>\n",
       "      <td>Pues bet365 me patrocina el bizzum no ? Jajajaj</td>\n",
       "      <td>47</td>\n",
       "      <td>2021-10-24 18:59:42</td>\n",
       "      <td>Sunday</td>\n",
       "      <td>18</td>\n",
       "      <td>2021-10-28 18:59:42</td>\n",
       "      <td>Work</td>\n",
       "      <td>0</td>\n",
       "      <td>4661</td>\n",
       "      <td>2021-10-24 18:59:42</td>\n",
       "      <td>2021-10-24 18:59:42</td>\n",
       "    </tr>\n",
       "    <tr>\n",
       "      <th>11097</th>\n",
       "      <td>24/10/21</td>\n",
       "      <td>2021-10-28 19:00:13</td>\n",
       "      <td>Berta</td>\n",
       "      <td>Ostia si</td>\n",
       "      <td>8</td>\n",
       "      <td>2021-10-24 19:00:13</td>\n",
       "      <td>Sunday</td>\n",
       "      <td>19</td>\n",
       "      <td>2021-10-28 19:00:13</td>\n",
       "      <td>No Work</td>\n",
       "      <td>0</td>\n",
       "      <td>4662</td>\n",
       "      <td>2021-10-24 19:00:13</td>\n",
       "      <td>NaT</td>\n",
       "    </tr>\n",
       "    <tr>\n",
       "      <th>11098</th>\n",
       "      <td>24/10/21</td>\n",
       "      <td>2021-10-28 19:00:15</td>\n",
       "      <td>Berta</td>\n",
       "      <td>Quan era?</td>\n",
       "      <td>9</td>\n",
       "      <td>2021-10-24 19:00:15</td>\n",
       "      <td>Sunday</td>\n",
       "      <td>19</td>\n",
       "      <td>2021-10-28 19:00:15</td>\n",
       "      <td>No Work</td>\n",
       "      <td>1</td>\n",
       "      <td>4662</td>\n",
       "      <td>NaT</td>\n",
       "      <td>NaT</td>\n",
       "    </tr>\n",
       "    <tr>\n",
       "      <th>11099</th>\n",
       "      <td>27/10/21</td>\n",
       "      <td>2021-10-28 18:50:26</td>\n",
       "      <td>Berta</td>\n",
       "      <td>‎Videotrucada perduda</td>\n",
       "      <td>21</td>\n",
       "      <td>2021-10-27 18:50:26</td>\n",
       "      <td>Wednesday</td>\n",
       "      <td>18</td>\n",
       "      <td>2021-10-28 18:50:26</td>\n",
       "      <td>Work</td>\n",
       "      <td>1</td>\n",
       "      <td>4662</td>\n",
       "      <td>NaT</td>\n",
       "      <td>2021-10-27 18:50:26</td>\n",
       "    </tr>\n",
       "  </tbody>\n",
       "</table>\n",
       "<p>11087 rows × 14 columns</p>\n",
       "</div>"
      ],
      "text/plain": [
       "           Date                Hour   Name  \\\n",
       "0      15/12/19 2021-10-28 11:00:44  Berta   \n",
       "1      15/12/19 2021-10-28 15:29:36  Berta   \n",
       "2      15/12/19 2021-10-28 15:59:31  Enric   \n",
       "3      15/12/19 2021-10-28 18:48:05  Enric   \n",
       "4      15/12/19 2021-10-28 18:50:05  Berta   \n",
       "...         ...                 ...    ...   \n",
       "11095  24/10/21 2021-10-28 18:18:30  Berta   \n",
       "11096  24/10/21 2021-10-28 18:59:42  Enric   \n",
       "11097  24/10/21 2021-10-28 19:00:13  Berta   \n",
       "11098  24/10/21 2021-10-28 19:00:15  Berta   \n",
       "11099  27/10/21 2021-10-28 18:50:26  Berta   \n",
       "\n",
       "                                                Content  Len  \\\n",
       "0                                        Menjem els ous   14   \n",
       "1                                           Kiiikeleekk   11   \n",
       "2                                                  Keik    4   \n",
       "3                                        Passem stikers   14   \n",
       "4                                      ‎enganxina omesa   16   \n",
       "...                                                 ...  ...   \n",
       "11095                              Tot això es ganancia   20   \n",
       "11096   Pues bet365 me patrocina el bizzum no ? Jajajaj   47   \n",
       "11097                                          Ostia si    8   \n",
       "11098                                         Quan era?    9   \n",
       "11099                             ‎Videotrucada perduda   21   \n",
       "\n",
       "              Date - Hour Day_of_week   H                Hora Schedule Change  \\\n",
       "0     2019-12-15 11:00:44      Sunday  11 2021-10-28 11:00:44     Work          \n",
       "1     2019-12-15 15:29:36      Sunday  15 2021-10-28 15:29:36     Work      1   \n",
       "2     2019-12-15 15:59:31      Sunday  15 2021-10-28 15:59:31     Work      0   \n",
       "3     2019-12-15 18:48:05      Sunday  18 2021-10-28 18:48:05     Work      1   \n",
       "4     2019-12-15 18:50:05      Sunday  18 2021-10-28 18:50:05     Work      0   \n",
       "...                   ...         ...  ..                 ...      ...    ...   \n",
       "11095 2021-10-24 18:18:30      Sunday  18 2021-10-28 18:18:30     Work      1   \n",
       "11096 2021-10-24 18:59:42      Sunday  18 2021-10-28 18:59:42     Work      0   \n",
       "11097 2021-10-24 19:00:13      Sunday  19 2021-10-28 19:00:13  No Work      0   \n",
       "11098 2021-10-24 19:00:15      Sunday  19 2021-10-28 19:00:15  No Work      1   \n",
       "11099 2021-10-27 18:50:26   Wednesday  18 2021-10-28 18:50:26     Work      1   \n",
       "\n",
       "      Count             First_H              Last_H  \n",
       "0           2019-12-15 11:00:44 2019-12-15 11:00:44  \n",
       "1         0 2019-12-15 15:29:36 2019-12-15 15:29:36  \n",
       "2         1 2019-12-15 15:59:31                 NaT  \n",
       "3         1                 NaT 2019-12-15 18:48:05  \n",
       "4         2 2019-12-15 18:50:05                 NaT  \n",
       "...     ...                 ...                 ...  \n",
       "11095  4660                 NaT 2021-10-24 18:18:30  \n",
       "11096  4661 2021-10-24 18:59:42 2021-10-24 18:59:42  \n",
       "11097  4662 2021-10-24 19:00:13                 NaT  \n",
       "11098  4662                 NaT                 NaT  \n",
       "11099  4662                 NaT 2021-10-27 18:50:26  \n",
       "\n",
       "[11087 rows x 14 columns]"
      ]
     },
     "execution_count": 248,
     "metadata": {},
     "output_type": "execute_result"
    }
   ],
   "source": [
    "# Get the hour of the first message sent and the last:\n",
    "\n",
    "df[\"First_H\"] = df.drop_duplicates(subset = [\"Count\"], keep = \"first\")[\"Date - Hour\"]\n",
    "df[\"Last_H\"] = df.drop_duplicates(subset = [\"Count\"], keep = \"last\")[\"Date - Hour\"]\n",
    "df"
   ]
  },
  {
   "cell_type": "code",
   "execution_count": 258,
   "id": "d2dcbc49",
   "metadata": {},
   "outputs": [],
   "source": [
    "# Group the mensatgess of the same writer together until it change\n",
    "df_gr = df.groupby(df[\"Count\"]).first()\n",
    "\n",
    "# Drop the Len because is just for a line and we want the len of all the group \n",
    "df_gr.drop(\"Len\" ,axis = 1, inplace = True )"
   ]
  },
  {
   "cell_type": "code",
   "execution_count": 259,
   "id": "97b26953",
   "metadata": {},
   "outputs": [],
   "source": [
    "# Group the df and sum all the Len:\n",
    "df_gr_Len = df.groupby(df[\"Count\"]).agg({\"Len\":\"sum\"})"
   ]
  },
  {
   "cell_type": "code",
   "execution_count": 260,
   "id": "e8bad975",
   "metadata": {},
   "outputs": [],
   "source": [
    "# Merge both the df\n",
    "df_gr = df_gr.merge( right = df_gr_Len, left_index= True, right_index=True )"
   ]
  },
  {
   "cell_type": "code",
   "execution_count": 261,
   "id": "cd2e79f5",
   "metadata": {},
   "outputs": [],
   "source": [
    "# Convert to datetime\n",
    "\n",
    "df_gr[\"Last_H\"] = pd.to_datetime(df_gr[\"Last_H\"], format = \"%Y-%m-%d %H:%M:%s\")\n",
    "df_gr[\"First_H\"] = pd.to_datetime(df_gr[\"First_H\"], format = \"%Y-%m-%d %H:%M:%s\")"
   ]
  },
  {
   "cell_type": "markdown",
   "id": "173603d6",
   "metadata": {},
   "source": [
    "# Calculate the waiting time:"
   ]
  },
  {
   "cell_type": "code",
   "execution_count": 262,
   "id": "9be188d7",
   "metadata": {},
   "outputs": [],
   "source": [
    "# Create the column to fill:\n",
    "\n",
    "df_gr[\"Time_waited\"] = \"\""
   ]
  },
  {
   "cell_type": "code",
   "execution_count": 263,
   "id": "3a72a718",
   "metadata": {},
   "outputs": [
    {
     "name": "stderr",
     "output_type": "stream",
     "text": [
      "C:\\Users\\Enric Roda\\anaconda3\\envs\\kik_project\\lib\\site-packages\\pandas\\core\\indexing.py:1732: SettingWithCopyWarning: \n",
      "A value is trying to be set on a copy of a slice from a DataFrame\n",
      "\n",
      "See the caveats in the documentation: https://pandas.pydata.org/pandas-docs/stable/user_guide/indexing.html#returning-a-view-versus-a-copy\n",
      "  self._setitem_single_block(indexer, value, name)\n"
     ]
    },
    {
     "ename": "IndexError",
     "evalue": "single positional indexer is out-of-bounds",
     "output_type": "error",
     "traceback": [
      "\u001b[1;31m---------------------------------------------------------------------------\u001b[0m",
      "\u001b[1;31mIndexError\u001b[0m                                Traceback (most recent call last)",
      "\u001b[1;32mC:\\Users\\ENRICR~1\\AppData\\Local\\Temp/ipykernel_5108/544396003.py\u001b[0m in \u001b[0;36m<module>\u001b[1;34m\u001b[0m\n\u001b[0;32m      4\u001b[0m \u001b[0mi\u001b[0m \u001b[1;33m=\u001b[0m \u001b[1;36m0\u001b[0m\u001b[1;33m\u001b[0m\u001b[1;33m\u001b[0m\u001b[0m\n\u001b[0;32m      5\u001b[0m \u001b[1;32mwhile\u001b[0m \u001b[0mi\u001b[0m \u001b[1;33m<=\u001b[0m \u001b[0mmax_fun\u001b[0m\u001b[1;33m:\u001b[0m\u001b[1;33m\u001b[0m\u001b[1;33m\u001b[0m\u001b[0m\n\u001b[1;32m----> 6\u001b[1;33m     \u001b[0mdf_gr\u001b[0m\u001b[1;33m[\u001b[0m\u001b[1;34m\"Time_waited\"\u001b[0m\u001b[1;33m]\u001b[0m\u001b[1;33m.\u001b[0m\u001b[0miloc\u001b[0m\u001b[1;33m[\u001b[0m\u001b[0mi\u001b[0m\u001b[1;33m]\u001b[0m \u001b[1;33m=\u001b[0m \u001b[0mdf_gr\u001b[0m\u001b[1;33m.\u001b[0m\u001b[0miloc\u001b[0m\u001b[1;33m[\u001b[0m\u001b[0mi\u001b[0m\u001b[1;33m+\u001b[0m\u001b[1;36m1\u001b[0m\u001b[1;33m]\u001b[0m\u001b[1;33m[\u001b[0m\u001b[1;34m\"First_H\"\u001b[0m\u001b[1;33m]\u001b[0m \u001b[1;33m-\u001b[0m \u001b[0mdf_gr\u001b[0m\u001b[1;33m.\u001b[0m\u001b[0miloc\u001b[0m\u001b[1;33m[\u001b[0m\u001b[0mi\u001b[0m\u001b[1;33m]\u001b[0m\u001b[1;33m[\u001b[0m\u001b[1;34m\"Last_H\"\u001b[0m\u001b[1;33m]\u001b[0m\u001b[1;33m\u001b[0m\u001b[1;33m\u001b[0m\u001b[0m\n\u001b[0m\u001b[0;32m      7\u001b[0m     \u001b[0mi\u001b[0m \u001b[1;33m=\u001b[0m \u001b[0mi\u001b[0m \u001b[1;33m+\u001b[0m \u001b[1;36m1\u001b[0m\u001b[1;33m\u001b[0m\u001b[1;33m\u001b[0m\u001b[0m\n",
      "\u001b[1;32m~\\anaconda3\\envs\\kik_project\\lib\\site-packages\\pandas\\core\\indexing.py\u001b[0m in \u001b[0;36m__getitem__\u001b[1;34m(self, key)\u001b[0m\n\u001b[0;32m    929\u001b[0m \u001b[1;33m\u001b[0m\u001b[0m\n\u001b[0;32m    930\u001b[0m             \u001b[0mmaybe_callable\u001b[0m \u001b[1;33m=\u001b[0m \u001b[0mcom\u001b[0m\u001b[1;33m.\u001b[0m\u001b[0mapply_if_callable\u001b[0m\u001b[1;33m(\u001b[0m\u001b[0mkey\u001b[0m\u001b[1;33m,\u001b[0m \u001b[0mself\u001b[0m\u001b[1;33m.\u001b[0m\u001b[0mobj\u001b[0m\u001b[1;33m)\u001b[0m\u001b[1;33m\u001b[0m\u001b[1;33m\u001b[0m\u001b[0m\n\u001b[1;32m--> 931\u001b[1;33m             \u001b[1;32mreturn\u001b[0m \u001b[0mself\u001b[0m\u001b[1;33m.\u001b[0m\u001b[0m_getitem_axis\u001b[0m\u001b[1;33m(\u001b[0m\u001b[0mmaybe_callable\u001b[0m\u001b[1;33m,\u001b[0m \u001b[0maxis\u001b[0m\u001b[1;33m=\u001b[0m\u001b[0maxis\u001b[0m\u001b[1;33m)\u001b[0m\u001b[1;33m\u001b[0m\u001b[1;33m\u001b[0m\u001b[0m\n\u001b[0m\u001b[0;32m    932\u001b[0m \u001b[1;33m\u001b[0m\u001b[0m\n\u001b[0;32m    933\u001b[0m     \u001b[1;32mdef\u001b[0m \u001b[0m_is_scalar_access\u001b[0m\u001b[1;33m(\u001b[0m\u001b[0mself\u001b[0m\u001b[1;33m,\u001b[0m \u001b[0mkey\u001b[0m\u001b[1;33m:\u001b[0m \u001b[0mtuple\u001b[0m\u001b[1;33m)\u001b[0m\u001b[1;33m:\u001b[0m\u001b[1;33m\u001b[0m\u001b[1;33m\u001b[0m\u001b[0m\n",
      "\u001b[1;32m~\\anaconda3\\envs\\kik_project\\lib\\site-packages\\pandas\\core\\indexing.py\u001b[0m in \u001b[0;36m_getitem_axis\u001b[1;34m(self, key, axis)\u001b[0m\n\u001b[0;32m   1564\u001b[0m \u001b[1;33m\u001b[0m\u001b[0m\n\u001b[0;32m   1565\u001b[0m             \u001b[1;31m# validate the location\u001b[0m\u001b[1;33m\u001b[0m\u001b[1;33m\u001b[0m\u001b[1;33m\u001b[0m\u001b[0m\n\u001b[1;32m-> 1566\u001b[1;33m             \u001b[0mself\u001b[0m\u001b[1;33m.\u001b[0m\u001b[0m_validate_integer\u001b[0m\u001b[1;33m(\u001b[0m\u001b[0mkey\u001b[0m\u001b[1;33m,\u001b[0m \u001b[0maxis\u001b[0m\u001b[1;33m)\u001b[0m\u001b[1;33m\u001b[0m\u001b[1;33m\u001b[0m\u001b[0m\n\u001b[0m\u001b[0;32m   1567\u001b[0m \u001b[1;33m\u001b[0m\u001b[0m\n\u001b[0;32m   1568\u001b[0m             \u001b[1;32mreturn\u001b[0m \u001b[0mself\u001b[0m\u001b[1;33m.\u001b[0m\u001b[0mobj\u001b[0m\u001b[1;33m.\u001b[0m\u001b[0m_ixs\u001b[0m\u001b[1;33m(\u001b[0m\u001b[0mkey\u001b[0m\u001b[1;33m,\u001b[0m \u001b[0maxis\u001b[0m\u001b[1;33m=\u001b[0m\u001b[0maxis\u001b[0m\u001b[1;33m)\u001b[0m\u001b[1;33m\u001b[0m\u001b[1;33m\u001b[0m\u001b[0m\n",
      "\u001b[1;32m~\\anaconda3\\envs\\kik_project\\lib\\site-packages\\pandas\\core\\indexing.py\u001b[0m in \u001b[0;36m_validate_integer\u001b[1;34m(self, key, axis)\u001b[0m\n\u001b[0;32m   1498\u001b[0m         \u001b[0mlen_axis\u001b[0m \u001b[1;33m=\u001b[0m \u001b[0mlen\u001b[0m\u001b[1;33m(\u001b[0m\u001b[0mself\u001b[0m\u001b[1;33m.\u001b[0m\u001b[0mobj\u001b[0m\u001b[1;33m.\u001b[0m\u001b[0m_get_axis\u001b[0m\u001b[1;33m(\u001b[0m\u001b[0maxis\u001b[0m\u001b[1;33m)\u001b[0m\u001b[1;33m)\u001b[0m\u001b[1;33m\u001b[0m\u001b[1;33m\u001b[0m\u001b[0m\n\u001b[0;32m   1499\u001b[0m         \u001b[1;32mif\u001b[0m \u001b[0mkey\u001b[0m \u001b[1;33m>=\u001b[0m \u001b[0mlen_axis\u001b[0m \u001b[1;32mor\u001b[0m \u001b[0mkey\u001b[0m \u001b[1;33m<\u001b[0m \u001b[1;33m-\u001b[0m\u001b[0mlen_axis\u001b[0m\u001b[1;33m:\u001b[0m\u001b[1;33m\u001b[0m\u001b[1;33m\u001b[0m\u001b[0m\n\u001b[1;32m-> 1500\u001b[1;33m             \u001b[1;32mraise\u001b[0m \u001b[0mIndexError\u001b[0m\u001b[1;33m(\u001b[0m\u001b[1;34m\"single positional indexer is out-of-bounds\"\u001b[0m\u001b[1;33m)\u001b[0m\u001b[1;33m\u001b[0m\u001b[1;33m\u001b[0m\u001b[0m\n\u001b[0m\u001b[0;32m   1501\u001b[0m \u001b[1;33m\u001b[0m\u001b[0m\n\u001b[0;32m   1502\u001b[0m     \u001b[1;31m# -------------------------------------------------------------------\u001b[0m\u001b[1;33m\u001b[0m\u001b[1;33m\u001b[0m\u001b[1;33m\u001b[0m\u001b[0m\n",
      "\u001b[1;31mIndexError\u001b[0m: single positional indexer is out-of-bounds"
     ]
    }
   ],
   "source": [
    "# Calculate the waiting time:\n",
    "\n",
    "#Get and Error but still work\n",
    "i = 0\n",
    "while i <= max_fun:\n",
    "    df_gr[\"Time_waited\"].iloc[i] = df_gr.iloc[i+1][\"First_H\"] - df_gr.iloc[i][\"Last_H\"]\n",
    "    i = i + 1"
   ]
  },
  {
   "cell_type": "code",
   "execution_count": 264,
   "id": "3fcd5389",
   "metadata": {},
   "outputs": [
    {
     "data": {
      "text/html": [
       "<div>\n",
       "<style scoped>\n",
       "    .dataframe tbody tr th:only-of-type {\n",
       "        vertical-align: middle;\n",
       "    }\n",
       "\n",
       "    .dataframe tbody tr th {\n",
       "        vertical-align: top;\n",
       "    }\n",
       "\n",
       "    .dataframe thead th {\n",
       "        text-align: right;\n",
       "    }\n",
       "</style>\n",
       "<table border=\"1\" class=\"dataframe\">\n",
       "  <thead>\n",
       "    <tr style=\"text-align: right;\">\n",
       "      <th></th>\n",
       "      <th>Date</th>\n",
       "      <th>Hour</th>\n",
       "      <th>Name</th>\n",
       "      <th>Content</th>\n",
       "      <th>Date - Hour</th>\n",
       "      <th>Day_of_week</th>\n",
       "      <th>H</th>\n",
       "      <th>Hora</th>\n",
       "      <th>Schedule</th>\n",
       "      <th>Change</th>\n",
       "      <th>First_H</th>\n",
       "      <th>Last_H</th>\n",
       "      <th>Len</th>\n",
       "      <th>Time_waited</th>\n",
       "    </tr>\n",
       "    <tr>\n",
       "      <th>Count</th>\n",
       "      <th></th>\n",
       "      <th></th>\n",
       "      <th></th>\n",
       "      <th></th>\n",
       "      <th></th>\n",
       "      <th></th>\n",
       "      <th></th>\n",
       "      <th></th>\n",
       "      <th></th>\n",
       "      <th></th>\n",
       "      <th></th>\n",
       "      <th></th>\n",
       "      <th></th>\n",
       "      <th></th>\n",
       "    </tr>\n",
       "  </thead>\n",
       "  <tbody>\n",
       "    <tr>\n",
       "      <th>0</th>\n",
       "      <td>15/12/19</td>\n",
       "      <td>2021-10-28 15:29:36</td>\n",
       "      <td>Berta</td>\n",
       "      <td>Kiiikeleekk</td>\n",
       "      <td>2019-12-15 15:29:36</td>\n",
       "      <td>Sunday</td>\n",
       "      <td>15</td>\n",
       "      <td>2021-10-28 15:29:36</td>\n",
       "      <td>Work</td>\n",
       "      <td>1</td>\n",
       "      <td>2019-12-15 15:29:36</td>\n",
       "      <td>2019-12-15 15:29:36</td>\n",
       "      <td>11</td>\n",
       "      <td>0 days 00:29:55</td>\n",
       "    </tr>\n",
       "    <tr>\n",
       "      <th>1</th>\n",
       "      <td>15/12/19</td>\n",
       "      <td>2021-10-28 15:59:31</td>\n",
       "      <td>Enric</td>\n",
       "      <td>Keik</td>\n",
       "      <td>2019-12-15 15:59:31</td>\n",
       "      <td>Sunday</td>\n",
       "      <td>15</td>\n",
       "      <td>2021-10-28 15:59:31</td>\n",
       "      <td>Work</td>\n",
       "      <td>0</td>\n",
       "      <td>2019-12-15 15:59:31</td>\n",
       "      <td>2019-12-15 18:48:05</td>\n",
       "      <td>18</td>\n",
       "      <td>0 days 00:02:00</td>\n",
       "    </tr>\n",
       "    <tr>\n",
       "      <th>2</th>\n",
       "      <td>15/12/19</td>\n",
       "      <td>2021-10-28 18:50:05</td>\n",
       "      <td>Berta</td>\n",
       "      <td>‎enganxina omesa</td>\n",
       "      <td>2019-12-15 18:50:05</td>\n",
       "      <td>Sunday</td>\n",
       "      <td>18</td>\n",
       "      <td>2021-10-28 18:50:05</td>\n",
       "      <td>Work</td>\n",
       "      <td>0</td>\n",
       "      <td>2019-12-15 18:50:05</td>\n",
       "      <td>2019-12-15 18:51:37</td>\n",
       "      <td>3024</td>\n",
       "      <td>0 days 00:00:00</td>\n",
       "    </tr>\n",
       "    <tr>\n",
       "      <th>3</th>\n",
       "      <td>15/12/19</td>\n",
       "      <td>2021-10-28 18:51:37</td>\n",
       "      <td>Enric</td>\n",
       "      <td>Yayyyya</td>\n",
       "      <td>2019-12-15 18:51:37</td>\n",
       "      <td>Sunday</td>\n",
       "      <td>18</td>\n",
       "      <td>2021-10-28 18:51:37</td>\n",
       "      <td>Work</td>\n",
       "      <td>0</td>\n",
       "      <td>2019-12-15 18:51:37</td>\n",
       "      <td>2019-12-15 18:51:37</td>\n",
       "      <td>7</td>\n",
       "      <td>0 days 00:00:00</td>\n",
       "    </tr>\n",
       "    <tr>\n",
       "      <th>4</th>\n",
       "      <td>15/12/19</td>\n",
       "      <td>2021-10-28 18:51:37</td>\n",
       "      <td>Berta</td>\n",
       "      <td>‎enganxina omesa</td>\n",
       "      <td>2019-12-15 18:51:37</td>\n",
       "      <td>Sunday</td>\n",
       "      <td>18</td>\n",
       "      <td>2021-10-28 18:51:37</td>\n",
       "      <td>Work</td>\n",
       "      <td>0</td>\n",
       "      <td>2019-12-15 18:51:37</td>\n",
       "      <td>2019-12-15 18:51:38</td>\n",
       "      <td>64</td>\n",
       "      <td>0 days 00:00:01</td>\n",
       "    </tr>\n",
       "    <tr>\n",
       "      <th>...</th>\n",
       "      <td>...</td>\n",
       "      <td>...</td>\n",
       "      <td>...</td>\n",
       "      <td>...</td>\n",
       "      <td>...</td>\n",
       "      <td>...</td>\n",
       "      <td>...</td>\n",
       "      <td>...</td>\n",
       "      <td>...</td>\n",
       "      <td>...</td>\n",
       "      <td>...</td>\n",
       "      <td>...</td>\n",
       "      <td>...</td>\n",
       "      <td>...</td>\n",
       "    </tr>\n",
       "    <tr>\n",
       "      <th>4659</th>\n",
       "      <td>24/10/21</td>\n",
       "      <td>2021-10-28 18:17:04</td>\n",
       "      <td>Enric</td>\n",
       "      <td>Has guañat alguna ?</td>\n",
       "      <td>2021-10-24 18:17:04</td>\n",
       "      <td>Sunday</td>\n",
       "      <td>18</td>\n",
       "      <td>2021-10-28 18:17:04</td>\n",
       "      <td>Work</td>\n",
       "      <td>0</td>\n",
       "      <td>2021-10-24 18:17:04</td>\n",
       "      <td>2021-10-24 18:17:04</td>\n",
       "      <td>19</td>\n",
       "      <td>0 days 00:01:18</td>\n",
       "    </tr>\n",
       "    <tr>\n",
       "      <th>4660</th>\n",
       "      <td>24/10/21</td>\n",
       "      <td>2021-10-28 18:18:22</td>\n",
       "      <td>Berta</td>\n",
       "      <td>Si bro</td>\n",
       "      <td>2021-10-24 18:18:22</td>\n",
       "      <td>Sunday</td>\n",
       "      <td>18</td>\n",
       "      <td>2021-10-28 18:18:22</td>\n",
       "      <td>Work</td>\n",
       "      <td>0</td>\n",
       "      <td>2021-10-24 18:18:22</td>\n",
       "      <td>2021-10-24 18:18:30</td>\n",
       "      <td>26</td>\n",
       "      <td>0 days 00:41:12</td>\n",
       "    </tr>\n",
       "    <tr>\n",
       "      <th>4661</th>\n",
       "      <td>24/10/21</td>\n",
       "      <td>2021-10-28 18:59:42</td>\n",
       "      <td>Enric</td>\n",
       "      <td>Pues bet365 me patrocina el bizzum no ? Jajajaj</td>\n",
       "      <td>2021-10-24 18:59:42</td>\n",
       "      <td>Sunday</td>\n",
       "      <td>18</td>\n",
       "      <td>2021-10-28 18:59:42</td>\n",
       "      <td>Work</td>\n",
       "      <td>0</td>\n",
       "      <td>2021-10-24 18:59:42</td>\n",
       "      <td>2021-10-24 18:59:42</td>\n",
       "      <td>47</td>\n",
       "      <td>0 days 00:00:31</td>\n",
       "    </tr>\n",
       "    <tr>\n",
       "      <th>4662</th>\n",
       "      <td>24/10/21</td>\n",
       "      <td>2021-10-28 19:00:13</td>\n",
       "      <td>Berta</td>\n",
       "      <td>Ostia si</td>\n",
       "      <td>2021-10-24 19:00:13</td>\n",
       "      <td>Sunday</td>\n",
       "      <td>19</td>\n",
       "      <td>2021-10-28 19:00:13</td>\n",
       "      <td>No Work</td>\n",
       "      <td>0</td>\n",
       "      <td>2021-10-24 19:00:13</td>\n",
       "      <td>2021-10-27 18:50:26</td>\n",
       "      <td>38</td>\n",
       "      <td>-683 days +16:10:18</td>\n",
       "    </tr>\n",
       "    <tr>\n",
       "      <th></th>\n",
       "      <td>15/12/19</td>\n",
       "      <td>2021-10-28 11:00:44</td>\n",
       "      <td>Berta</td>\n",
       "      <td>Menjem els ous</td>\n",
       "      <td>2019-12-15 11:00:44</td>\n",
       "      <td>Sunday</td>\n",
       "      <td>11</td>\n",
       "      <td>2021-10-28 11:00:44</td>\n",
       "      <td>Work</td>\n",
       "      <td></td>\n",
       "      <td>2019-12-15 11:00:44</td>\n",
       "      <td>2019-12-15 11:00:44</td>\n",
       "      <td>14</td>\n",
       "      <td></td>\n",
       "    </tr>\n",
       "  </tbody>\n",
       "</table>\n",
       "<p>4664 rows × 14 columns</p>\n",
       "</div>"
      ],
      "text/plain": [
       "           Date                Hour   Name  \\\n",
       "Count                                        \n",
       "0      15/12/19 2021-10-28 15:29:36  Berta   \n",
       "1      15/12/19 2021-10-28 15:59:31  Enric   \n",
       "2      15/12/19 2021-10-28 18:50:05  Berta   \n",
       "3      15/12/19 2021-10-28 18:51:37  Enric   \n",
       "4      15/12/19 2021-10-28 18:51:37  Berta   \n",
       "...         ...                 ...    ...   \n",
       "4659   24/10/21 2021-10-28 18:17:04  Enric   \n",
       "4660   24/10/21 2021-10-28 18:18:22  Berta   \n",
       "4661   24/10/21 2021-10-28 18:59:42  Enric   \n",
       "4662   24/10/21 2021-10-28 19:00:13  Berta   \n",
       "       15/12/19 2021-10-28 11:00:44  Berta   \n",
       "\n",
       "                                                Content         Date - Hour  \\\n",
       "Count                                                                         \n",
       "0                                           Kiiikeleekk 2019-12-15 15:29:36   \n",
       "1                                                  Keik 2019-12-15 15:59:31   \n",
       "2                                      ‎enganxina omesa 2019-12-15 18:50:05   \n",
       "3                                               Yayyyya 2019-12-15 18:51:37   \n",
       "4                                      ‎enganxina omesa 2019-12-15 18:51:37   \n",
       "...                                                 ...                 ...   \n",
       "4659                                Has guañat alguna ? 2021-10-24 18:17:04   \n",
       "4660                                             Si bro 2021-10-24 18:18:22   \n",
       "4661    Pues bet365 me patrocina el bizzum no ? Jajajaj 2021-10-24 18:59:42   \n",
       "4662                                           Ostia si 2021-10-24 19:00:13   \n",
       "                                         Menjem els ous 2019-12-15 11:00:44   \n",
       "\n",
       "      Day_of_week   H                Hora Schedule Change             First_H  \\\n",
       "Count                                                                           \n",
       "0          Sunday  15 2021-10-28 15:29:36     Work      1 2019-12-15 15:29:36   \n",
       "1          Sunday  15 2021-10-28 15:59:31     Work      0 2019-12-15 15:59:31   \n",
       "2          Sunday  18 2021-10-28 18:50:05     Work      0 2019-12-15 18:50:05   \n",
       "3          Sunday  18 2021-10-28 18:51:37     Work      0 2019-12-15 18:51:37   \n",
       "4          Sunday  18 2021-10-28 18:51:37     Work      0 2019-12-15 18:51:37   \n",
       "...           ...  ..                 ...      ...    ...                 ...   \n",
       "4659       Sunday  18 2021-10-28 18:17:04     Work      0 2021-10-24 18:17:04   \n",
       "4660       Sunday  18 2021-10-28 18:18:22     Work      0 2021-10-24 18:18:22   \n",
       "4661       Sunday  18 2021-10-28 18:59:42     Work      0 2021-10-24 18:59:42   \n",
       "4662       Sunday  19 2021-10-28 19:00:13  No Work      0 2021-10-24 19:00:13   \n",
       "           Sunday  11 2021-10-28 11:00:44     Work        2019-12-15 11:00:44   \n",
       "\n",
       "                   Last_H   Len          Time_waited  \n",
       "Count                                                 \n",
       "0     2019-12-15 15:29:36    11      0 days 00:29:55  \n",
       "1     2019-12-15 18:48:05    18      0 days 00:02:00  \n",
       "2     2019-12-15 18:51:37  3024      0 days 00:00:00  \n",
       "3     2019-12-15 18:51:37     7      0 days 00:00:00  \n",
       "4     2019-12-15 18:51:38    64      0 days 00:00:01  \n",
       "...                   ...   ...                  ...  \n",
       "4659  2021-10-24 18:17:04    19      0 days 00:01:18  \n",
       "4660  2021-10-24 18:18:30    26      0 days 00:41:12  \n",
       "4661  2021-10-24 18:59:42    47      0 days 00:00:31  \n",
       "4662  2021-10-27 18:50:26    38  -683 days +16:10:18  \n",
       "      2019-12-15 11:00:44    14                       \n",
       "\n",
       "[4664 rows x 14 columns]"
      ]
     },
     "execution_count": 264,
     "metadata": {},
     "output_type": "execute_result"
    }
   ],
   "source": [
    "df_gr"
   ]
  },
  {
   "cell_type": "code",
   "execution_count": 265,
   "id": "a088724c",
   "metadata": {},
   "outputs": [],
   "source": [
    "# Delete the last  rows:\n",
    "\n",
    "df_gr = df_gr.drop(df_gr.index[-1])"
   ]
  },
  {
   "cell_type": "code",
   "execution_count": 271,
   "id": "6a7ba1a8",
   "metadata": {},
   "outputs": [
    {
     "name": "stderr",
     "output_type": "stream",
     "text": [
      "C:\\Users\\Enric Roda\\anaconda3\\envs\\kik_project\\lib\\site-packages\\pandas\\core\\indexing.py:1732: SettingWithCopyWarning: \n",
      "A value is trying to be set on a copy of a slice from a DataFrame\n",
      "\n",
      "See the caveats in the documentation: https://pandas.pydata.org/pandas-docs/stable/user_guide/indexing.html#returning-a-view-versus-a-copy\n",
      "  self._setitem_single_block(indexer, value, name)\n"
     ]
    }
   ],
   "source": [
    "# The last row is the one we have to predict, so leave  it at 0 days 0 h 0 mins \n",
    "\n",
    "df_gr[\"Time_waited\"].iloc[-1] = (\"0 days 0 hours 0 minute\")"
   ]
  },
  {
   "cell_type": "code",
   "execution_count": 272,
   "id": "81a02cb0",
   "metadata": {},
   "outputs": [
    {
     "data": {
      "text/html": [
       "<div>\n",
       "<style scoped>\n",
       "    .dataframe tbody tr th:only-of-type {\n",
       "        vertical-align: middle;\n",
       "    }\n",
       "\n",
       "    .dataframe tbody tr th {\n",
       "        vertical-align: top;\n",
       "    }\n",
       "\n",
       "    .dataframe thead th {\n",
       "        text-align: right;\n",
       "    }\n",
       "</style>\n",
       "<table border=\"1\" class=\"dataframe\">\n",
       "  <thead>\n",
       "    <tr style=\"text-align: right;\">\n",
       "      <th></th>\n",
       "      <th>Date</th>\n",
       "      <th>Hour</th>\n",
       "      <th>Name</th>\n",
       "      <th>Content</th>\n",
       "      <th>Date - Hour</th>\n",
       "      <th>Day_of_week</th>\n",
       "      <th>H</th>\n",
       "      <th>Hora</th>\n",
       "      <th>Schedule</th>\n",
       "      <th>Change</th>\n",
       "      <th>First_H</th>\n",
       "      <th>Last_H</th>\n",
       "      <th>Len</th>\n",
       "      <th>Time_waited</th>\n",
       "    </tr>\n",
       "    <tr>\n",
       "      <th>Count</th>\n",
       "      <th></th>\n",
       "      <th></th>\n",
       "      <th></th>\n",
       "      <th></th>\n",
       "      <th></th>\n",
       "      <th></th>\n",
       "      <th></th>\n",
       "      <th></th>\n",
       "      <th></th>\n",
       "      <th></th>\n",
       "      <th></th>\n",
       "      <th></th>\n",
       "      <th></th>\n",
       "      <th></th>\n",
       "    </tr>\n",
       "  </thead>\n",
       "  <tbody>\n",
       "    <tr>\n",
       "      <th>0</th>\n",
       "      <td>15/12/19</td>\n",
       "      <td>2021-10-28 15:29:36</td>\n",
       "      <td>Berta</td>\n",
       "      <td>Kiiikeleekk</td>\n",
       "      <td>2019-12-15 15:29:36</td>\n",
       "      <td>Sunday</td>\n",
       "      <td>15</td>\n",
       "      <td>2021-10-28 15:29:36</td>\n",
       "      <td>Work</td>\n",
       "      <td>1</td>\n",
       "      <td>2019-12-15 15:29:36</td>\n",
       "      <td>2019-12-15 15:29:36</td>\n",
       "      <td>11</td>\n",
       "      <td>0 days 00:29:55</td>\n",
       "    </tr>\n",
       "    <tr>\n",
       "      <th>1</th>\n",
       "      <td>15/12/19</td>\n",
       "      <td>2021-10-28 15:59:31</td>\n",
       "      <td>Enric</td>\n",
       "      <td>Keik</td>\n",
       "      <td>2019-12-15 15:59:31</td>\n",
       "      <td>Sunday</td>\n",
       "      <td>15</td>\n",
       "      <td>2021-10-28 15:59:31</td>\n",
       "      <td>Work</td>\n",
       "      <td>0</td>\n",
       "      <td>2019-12-15 15:59:31</td>\n",
       "      <td>2019-12-15 18:48:05</td>\n",
       "      <td>18</td>\n",
       "      <td>0 days 00:02:00</td>\n",
       "    </tr>\n",
       "    <tr>\n",
       "      <th>2</th>\n",
       "      <td>15/12/19</td>\n",
       "      <td>2021-10-28 18:50:05</td>\n",
       "      <td>Berta</td>\n",
       "      <td>‎enganxina omesa</td>\n",
       "      <td>2019-12-15 18:50:05</td>\n",
       "      <td>Sunday</td>\n",
       "      <td>18</td>\n",
       "      <td>2021-10-28 18:50:05</td>\n",
       "      <td>Work</td>\n",
       "      <td>0</td>\n",
       "      <td>2019-12-15 18:50:05</td>\n",
       "      <td>2019-12-15 18:51:37</td>\n",
       "      <td>3024</td>\n",
       "      <td>0 days 00:00:00</td>\n",
       "    </tr>\n",
       "    <tr>\n",
       "      <th>3</th>\n",
       "      <td>15/12/19</td>\n",
       "      <td>2021-10-28 18:51:37</td>\n",
       "      <td>Enric</td>\n",
       "      <td>Yayyyya</td>\n",
       "      <td>2019-12-15 18:51:37</td>\n",
       "      <td>Sunday</td>\n",
       "      <td>18</td>\n",
       "      <td>2021-10-28 18:51:37</td>\n",
       "      <td>Work</td>\n",
       "      <td>0</td>\n",
       "      <td>2019-12-15 18:51:37</td>\n",
       "      <td>2019-12-15 18:51:37</td>\n",
       "      <td>7</td>\n",
       "      <td>0 days 00:00:00</td>\n",
       "    </tr>\n",
       "    <tr>\n",
       "      <th>4</th>\n",
       "      <td>15/12/19</td>\n",
       "      <td>2021-10-28 18:51:37</td>\n",
       "      <td>Berta</td>\n",
       "      <td>‎enganxina omesa</td>\n",
       "      <td>2019-12-15 18:51:37</td>\n",
       "      <td>Sunday</td>\n",
       "      <td>18</td>\n",
       "      <td>2021-10-28 18:51:37</td>\n",
       "      <td>Work</td>\n",
       "      <td>0</td>\n",
       "      <td>2019-12-15 18:51:37</td>\n",
       "      <td>2019-12-15 18:51:38</td>\n",
       "      <td>64</td>\n",
       "      <td>0 days 00:00:01</td>\n",
       "    </tr>\n",
       "    <tr>\n",
       "      <th>...</th>\n",
       "      <td>...</td>\n",
       "      <td>...</td>\n",
       "      <td>...</td>\n",
       "      <td>...</td>\n",
       "      <td>...</td>\n",
       "      <td>...</td>\n",
       "      <td>...</td>\n",
       "      <td>...</td>\n",
       "      <td>...</td>\n",
       "      <td>...</td>\n",
       "      <td>...</td>\n",
       "      <td>...</td>\n",
       "      <td>...</td>\n",
       "      <td>...</td>\n",
       "    </tr>\n",
       "    <tr>\n",
       "      <th>4658</th>\n",
       "      <td>23/10/21</td>\n",
       "      <td>2021-10-28 00:09:53</td>\n",
       "      <td>Berta</td>\n",
       "      <td>‎Imatge omesa</td>\n",
       "      <td>2021-10-23 00:09:53</td>\n",
       "      <td>Saturday</td>\n",
       "      <td>0</td>\n",
       "      <td>2021-10-28 00:09:53</td>\n",
       "      <td>Night</td>\n",
       "      <td>0</td>\n",
       "      <td>2021-10-23 00:09:53</td>\n",
       "      <td>2021-10-24 18:14:42</td>\n",
       "      <td>26</td>\n",
       "      <td>0 days 00:02:22</td>\n",
       "    </tr>\n",
       "    <tr>\n",
       "      <th>4659</th>\n",
       "      <td>24/10/21</td>\n",
       "      <td>2021-10-28 18:17:04</td>\n",
       "      <td>Enric</td>\n",
       "      <td>Has guañat alguna ?</td>\n",
       "      <td>2021-10-24 18:17:04</td>\n",
       "      <td>Sunday</td>\n",
       "      <td>18</td>\n",
       "      <td>2021-10-28 18:17:04</td>\n",
       "      <td>Work</td>\n",
       "      <td>0</td>\n",
       "      <td>2021-10-24 18:17:04</td>\n",
       "      <td>2021-10-24 18:17:04</td>\n",
       "      <td>19</td>\n",
       "      <td>0 days 00:01:18</td>\n",
       "    </tr>\n",
       "    <tr>\n",
       "      <th>4660</th>\n",
       "      <td>24/10/21</td>\n",
       "      <td>2021-10-28 18:18:22</td>\n",
       "      <td>Berta</td>\n",
       "      <td>Si bro</td>\n",
       "      <td>2021-10-24 18:18:22</td>\n",
       "      <td>Sunday</td>\n",
       "      <td>18</td>\n",
       "      <td>2021-10-28 18:18:22</td>\n",
       "      <td>Work</td>\n",
       "      <td>0</td>\n",
       "      <td>2021-10-24 18:18:22</td>\n",
       "      <td>2021-10-24 18:18:30</td>\n",
       "      <td>26</td>\n",
       "      <td>0 days 00:41:12</td>\n",
       "    </tr>\n",
       "    <tr>\n",
       "      <th>4661</th>\n",
       "      <td>24/10/21</td>\n",
       "      <td>2021-10-28 18:59:42</td>\n",
       "      <td>Enric</td>\n",
       "      <td>Pues bet365 me patrocina el bizzum no ? Jajajaj</td>\n",
       "      <td>2021-10-24 18:59:42</td>\n",
       "      <td>Sunday</td>\n",
       "      <td>18</td>\n",
       "      <td>2021-10-28 18:59:42</td>\n",
       "      <td>Work</td>\n",
       "      <td>0</td>\n",
       "      <td>2021-10-24 18:59:42</td>\n",
       "      <td>2021-10-24 18:59:42</td>\n",
       "      <td>47</td>\n",
       "      <td>0 days 00:00:31</td>\n",
       "    </tr>\n",
       "    <tr>\n",
       "      <th>4662</th>\n",
       "      <td>24/10/21</td>\n",
       "      <td>2021-10-28 19:00:13</td>\n",
       "      <td>Berta</td>\n",
       "      <td>Ostia si</td>\n",
       "      <td>2021-10-24 19:00:13</td>\n",
       "      <td>Sunday</td>\n",
       "      <td>19</td>\n",
       "      <td>2021-10-28 19:00:13</td>\n",
       "      <td>No Work</td>\n",
       "      <td>0</td>\n",
       "      <td>2021-10-24 19:00:13</td>\n",
       "      <td>2021-10-27 18:50:26</td>\n",
       "      <td>38</td>\n",
       "      <td>0 days 0 hours 0 minute</td>\n",
       "    </tr>\n",
       "  </tbody>\n",
       "</table>\n",
       "<p>4663 rows × 14 columns</p>\n",
       "</div>"
      ],
      "text/plain": [
       "           Date                Hour   Name  \\\n",
       "Count                                        \n",
       "0      15/12/19 2021-10-28 15:29:36  Berta   \n",
       "1      15/12/19 2021-10-28 15:59:31  Enric   \n",
       "2      15/12/19 2021-10-28 18:50:05  Berta   \n",
       "3      15/12/19 2021-10-28 18:51:37  Enric   \n",
       "4      15/12/19 2021-10-28 18:51:37  Berta   \n",
       "...         ...                 ...    ...   \n",
       "4658   23/10/21 2021-10-28 00:09:53  Berta   \n",
       "4659   24/10/21 2021-10-28 18:17:04  Enric   \n",
       "4660   24/10/21 2021-10-28 18:18:22  Berta   \n",
       "4661   24/10/21 2021-10-28 18:59:42  Enric   \n",
       "4662   24/10/21 2021-10-28 19:00:13  Berta   \n",
       "\n",
       "                                                Content         Date - Hour  \\\n",
       "Count                                                                         \n",
       "0                                           Kiiikeleekk 2019-12-15 15:29:36   \n",
       "1                                                  Keik 2019-12-15 15:59:31   \n",
       "2                                      ‎enganxina omesa 2019-12-15 18:50:05   \n",
       "3                                               Yayyyya 2019-12-15 18:51:37   \n",
       "4                                      ‎enganxina omesa 2019-12-15 18:51:37   \n",
       "...                                                 ...                 ...   \n",
       "4658                                      ‎Imatge omesa 2021-10-23 00:09:53   \n",
       "4659                                Has guañat alguna ? 2021-10-24 18:17:04   \n",
       "4660                                             Si bro 2021-10-24 18:18:22   \n",
       "4661    Pues bet365 me patrocina el bizzum no ? Jajajaj 2021-10-24 18:59:42   \n",
       "4662                                           Ostia si 2021-10-24 19:00:13   \n",
       "\n",
       "      Day_of_week   H                Hora Schedule Change             First_H  \\\n",
       "Count                                                                           \n",
       "0          Sunday  15 2021-10-28 15:29:36     Work      1 2019-12-15 15:29:36   \n",
       "1          Sunday  15 2021-10-28 15:59:31     Work      0 2019-12-15 15:59:31   \n",
       "2          Sunday  18 2021-10-28 18:50:05     Work      0 2019-12-15 18:50:05   \n",
       "3          Sunday  18 2021-10-28 18:51:37     Work      0 2019-12-15 18:51:37   \n",
       "4          Sunday  18 2021-10-28 18:51:37     Work      0 2019-12-15 18:51:37   \n",
       "...           ...  ..                 ...      ...    ...                 ...   \n",
       "4658     Saturday   0 2021-10-28 00:09:53    Night      0 2021-10-23 00:09:53   \n",
       "4659       Sunday  18 2021-10-28 18:17:04     Work      0 2021-10-24 18:17:04   \n",
       "4660       Sunday  18 2021-10-28 18:18:22     Work      0 2021-10-24 18:18:22   \n",
       "4661       Sunday  18 2021-10-28 18:59:42     Work      0 2021-10-24 18:59:42   \n",
       "4662       Sunday  19 2021-10-28 19:00:13  No Work      0 2021-10-24 19:00:13   \n",
       "\n",
       "                   Last_H   Len              Time_waited  \n",
       "Count                                                     \n",
       "0     2019-12-15 15:29:36    11          0 days 00:29:55  \n",
       "1     2019-12-15 18:48:05    18          0 days 00:02:00  \n",
       "2     2019-12-15 18:51:37  3024          0 days 00:00:00  \n",
       "3     2019-12-15 18:51:37     7          0 days 00:00:00  \n",
       "4     2019-12-15 18:51:38    64          0 days 00:00:01  \n",
       "...                   ...   ...                      ...  \n",
       "4658  2021-10-24 18:14:42    26          0 days 00:02:22  \n",
       "4659  2021-10-24 18:17:04    19          0 days 00:01:18  \n",
       "4660  2021-10-24 18:18:30    26          0 days 00:41:12  \n",
       "4661  2021-10-24 18:59:42    47          0 days 00:00:31  \n",
       "4662  2021-10-27 18:50:26    38  0 days 0 hours 0 minute  \n",
       "\n",
       "[4663 rows x 14 columns]"
      ]
     },
     "execution_count": 272,
     "metadata": {},
     "output_type": "execute_result"
    }
   ],
   "source": [
    "df_gr"
   ]
  },
  {
   "cell_type": "code",
   "execution_count": 273,
   "id": "403497f8",
   "metadata": {},
   "outputs": [],
   "source": [
    "df_gr[\"Time_waited\"] = pd.to_timedelta(df_gr[\"Time_waited\"])"
   ]
  },
  {
   "cell_type": "code",
   "execution_count": 274,
   "id": "973aa3d5",
   "metadata": {},
   "outputs": [],
   "source": [
    "# When you send just a message at the same time maybe the time of waiting could be negative, this function convert it in 0\n",
    "\n",
    "def min_des (h):\n",
    "    \n",
    "     # Negative minute\n",
    "    m_neg = pd.Timedelta(\"0 days 0 hours 0 minute\") - pd.Timedelta(\"0 days 0 hours 1 minute\")\n",
    "    \n",
    "    # The time is negative, but less than a minute    \n",
    "    if( h< pd.Timedelta(\"0 days 0 hours 0 minute\")) and (h > m_neg):\n",
    "        return (pd.Timedelta(\"0 days 0 hours 0 minute\"))\n",
    "            \n",
    "    \n",
    "    # 10 days negative\n",
    "    d_neg = pd.Timedelta(\"0 days 0 hours 0 minute\") - pd.Timedelta(\"1000 days 0 hours 1 minute\")\n",
    "    \n",
    "    # If it get a more than 10 days negative is aleatori, so I put a mean of 1h 30 mins\n",
    "    if( h < pd.Timedelta(\"0 days 0 hours 0 minute\")) and (h > d_neg):\n",
    "        return (pd.Timedelta(\"0 days 1 hours 30 minute\"))\n",
    "    \n",
    "    # If the waiting time is more than a week is not a waiting time so we put a waiting time average of 1h 30 mins\n",
    "    if ( h > pd.Timedelta(\"7 days 0 hours 0 minute\")):\n",
    "        return (pd.Timedelta(\"0 days 1 hours 30 minute\"))\n",
    "        \n",
    "    \n",
    "    else:\n",
    "        return h\n",
    "    \n",
    "# Apply the funccion.    \n",
    "df_gr[\"Time_waited\"] = df_gr[\"Time_waited\"].apply(min_des)    "
   ]
  },
  {
   "cell_type": "code",
   "execution_count": 275,
   "id": "1420c35f",
   "metadata": {},
   "outputs": [],
   "source": [
    "# Convert \n",
    "df_gr[\"Time_waited\"] = pd.to_timedelta(df_gr[\"Time_waited\"])"
   ]
  },
  {
   "cell_type": "code",
   "execution_count": 276,
   "id": "75d8add0",
   "metadata": {},
   "outputs": [],
   "source": [
    "# Function that return if the waiting time is more than 4h\n",
    "def espera (h):\n",
    "    if h > pd.Timedelta(\"0 days 4 hours\"):\n",
    "        return \"+ 4h\"\n",
    "    else:\n",
    "        return \"-4 h\"\n",
    "df_gr[\"More than 4h\"] = df_gr[\"Time_waited\"].apply(espera)"
   ]
  },
  {
   "cell_type": "code",
   "execution_count": 277,
   "id": "5c46534f",
   "metadata": {},
   "outputs": [
    {
     "data": {
      "text/plain": [
       "-4 h    4449\n",
       "+ 4h     214\n",
       "Name: More than 4h, dtype: int64"
      ]
     },
     "execution_count": 277,
     "metadata": {},
     "output_type": "execute_result"
    }
   ],
   "source": [
    "# See how many are of each of more that 4h or not\n",
    "df_gr[\"More than 4h\"].value_counts()"
   ]
  },
  {
   "cell_type": "code",
   "execution_count": 278,
   "id": "b4596ccb",
   "metadata": {},
   "outputs": [],
   "source": [
    "# Not count the time of sleep as wating\n",
    "\n",
    "def Time_waited_night (h, m4, tw):\n",
    "    if (h == \"Night\") and m4 == \"+ 4h\":\n",
    "        return (pd.Timedelta(\"0 days 1 hours 26 minute\"))\n",
    "    else:\n",
    "        return tw\n",
    "        \n",
    "df_gr[\"Time_waited\"] = df_gr.apply(lambda x: Time_waited_night (x[\"Schedule\"], x[\"More than 4h\"], x[\"Time_waited\"] ), axis = 1)\n",
    "\n",
    "        \n",
    "    "
   ]
  },
  {
   "cell_type": "code",
   "execution_count": 279,
   "id": "a7ba8fb3",
   "metadata": {},
   "outputs": [
    {
     "name": "stdout",
     "output_type": "stream",
     "text": [
      "The average time of waiting is: 0 days 00:52:04.537422260\n",
      "Berta has wait 0 days 00:42:48.842195540\n",
      "Enric has wait 0 days 01:01:20.471042471\n",
      "\n",
      "Berta has wait  69 %, respect Enric\n"
     ]
    }
   ],
   "source": [
    "# Select the name of the persons\n",
    "name1 = df_gr[\"Name\"].iloc[0]\n",
    "name2 = df_gr[\"Name\"].iloc[1]\n",
    "\n",
    "# Average of waiting time\n",
    "time_W_name1 = df_gr[df_gr[\"Name\"]== name1][\"Time_waited\"].mean()\n",
    "time_W_name2 = df_gr[df_gr[\"Name\"]== name2][\"Time_waited\"].mean()\n",
    "time_W_Average = df_gr[\"Time_waited\"].mean()\n",
    "\n",
    "# Time waite name1 respect for name 2  \n",
    "p1_respecte_p2 = (time_W_name1 / time_W_name2) * 100\n",
    "p1_respecte_p2 = int(p1_respecte_p2)\n",
    "\n",
    "\n",
    "print(\"The average time of waiting is:\", time_W_Average )\n",
    "print(name1, \"has wait\", time_W_name1 )\n",
    "print(name2, \"has wait\", time_W_name2 )\n",
    "print(\"\")\n",
    "print(name1 , \"has wait \", p1_respecte_p2 , \"%, respect\" , name2)"
   ]
  },
  {
   "cell_type": "markdown",
   "id": "08b0e827",
   "metadata": {},
   "source": [
    "# Reporte Semanal"
   ]
  },
  {
   "cell_type": "code",
   "execution_count": 280,
   "id": "0d7162bb",
   "metadata": {},
   "outputs": [],
   "source": [
    "# Convert the Date to datetime\n",
    "df_gr['Date'] = pd.to_datetime(df_gr[\"Date\"], format = \"%d/%m/%y\")"
   ]
  },
  {
   "cell_type": "code",
   "execution_count": 281,
   "id": "91c50c6a",
   "metadata": {},
   "outputs": [],
   "source": [
    "# Select the first day of the week and the last day\n",
    "\n",
    "last_day = df_gr.iloc[-1][\"Date\"]\n",
    "\n",
    "first_day_last_week = last_day - pd.Timedelta(\"7 days 0 hours 0 minute\")"
   ]
  },
  {
   "cell_type": "code",
   "execution_count": 282,
   "id": "581ba347",
   "metadata": {},
   "outputs": [],
   "source": [
    "# Create a df with a the data of the last week\n",
    "\n",
    "df_last_week = df_gr[df_gr[\"Date\"]>=first_day_last_week]"
   ]
  },
  {
   "cell_type": "code",
   "execution_count": 283,
   "id": "55d4eb2d",
   "metadata": {},
   "outputs": [
    {
     "name": "stderr",
     "output_type": "stream",
     "text": [
      "C:\\Users\\ENRICR~1\\AppData\\Local\\Temp/ipykernel_5108/390829231.py:3: FutureWarning: Series.dt.weekofyear and Series.dt.week have been deprecated.  Please use Series.dt.isocalendar().week instead.\n",
      "  df_gr[\"Week\"] = df_gr [\"Date\"].dt.week\n"
     ]
    }
   ],
   "source": [
    "# Number of week\n",
    "\n",
    "df_gr[\"Week\"] = df_gr [\"Date\"].dt.week"
   ]
  },
  {
   "cell_type": "code",
   "execution_count": 284,
   "id": "bfc89f6a",
   "metadata": {},
   "outputs": [],
   "source": [
    "# Column of waiting time in seconds \n",
    "df_gr[\"Time_waited_in_s\"] = df_gr[\"Time_waited\"].dt.total_seconds()"
   ]
  },
  {
   "cell_type": "code",
   "execution_count": 285,
   "id": "f7f2eb2c",
   "metadata": {},
   "outputs": [],
   "source": [
    "# Time waiting of the last week:\n",
    "\n",
    "time_WLW_name1 = df_last_week[df_last_week[\"Name\"]== name1][\"Time_waited\"].mean()\n",
    "time_WLW_name2 = df_last_week[df_last_week[\"Name\"]== name2][\"Time_waited\"].mean()\n",
    "time_WLW_Average = df_last_week[\"Time_waited\"].mean()"
   ]
  },
  {
   "cell_type": "code",
   "execution_count": 286,
   "id": "ca714861",
   "metadata": {},
   "outputs": [
    {
     "name": "stderr",
     "output_type": "stream",
     "text": [
      "C:\\Users\\ENRICR~1\\AppData\\Local\\Temp/ipykernel_5108/2100083907.py:1: SettingWithCopyWarning: \n",
      "A value is trying to be set on a copy of a slice from a DataFrame.\n",
      "Try using .loc[row_indexer,col_indexer] = value instead\n",
      "\n",
      "See the caveats in the documentation: https://pandas.pydata.org/pandas-docs/stable/user_guide/indexing.html#returning-a-view-versus-a-copy\n",
      "  df['Date'] = pd.to_datetime(df[\"Date\"], format = \"%d/%m/%y\")\n"
     ]
    }
   ],
   "source": [
    "df['Date'] = pd.to_datetime(df[\"Date\"], format = \"%d/%m/%y\")\n",
    "df_week = df[df[\"Date\"]>=first_day_last_week]"
   ]
  },
  {
   "cell_type": "markdown",
   "id": "e02d9613",
   "metadata": {},
   "source": [
    "## Percent of waiting time respect the mean"
   ]
  },
  {
   "cell_type": "code",
   "execution_count": 287,
   "id": "c3140916",
   "metadata": {},
   "outputs": [
    {
     "name": "stdout",
     "output_type": "stream",
     "text": [
      "Berta has wait 496 % respect the mean, this week\n",
      "Enric has wait 37 % respect the mean, this week\n",
      "\n",
      "Berta has wait  925 %, respect Enric this week\n"
     ]
    }
   ],
   "source": [
    "# Time waiting Person one of the last week respect of the mean\n",
    "\n",
    "p1_lastweek_respecte_p1 = (time_WLW_name1 / time_W_name1) * 100\n",
    "p1_lastweek_respecte_p1 = int(p1_lastweek_respecte_p1)\n",
    "print(name1, \"has wait\", p1_lastweek_respecte_p1, \"% respect the mean, this week\")\n",
    "\n",
    "p2_lastweek_respecte_p2 = (time_WLW_name2 / time_W_name2) * 100\n",
    "p2_lastweek_respecte_p2 = int(p2_lastweek_respecte_p2)\n",
    "print(name2, \"has wait\", p2_lastweek_respecte_p2, \"% respect the mean, this week\")\n",
    "\n",
    "\n",
    "p1_respecte_p2_Lweek = (time_WLW_name1 / time_WLW_name2) * 100\n",
    "p1_respecte_p2_Lweek = int(p1_respecte_p2_Lweek)\n",
    "\n",
    "\n",
    "print(\"\")\n",
    "print(name1 , \"has wait \", p1_respecte_p2_Lweek , \"%, respect\" , name2, \"this week\")"
   ]
  },
  {
   "cell_type": "markdown",
   "id": "30312d05",
   "metadata": {},
   "source": [
    "## Evolution of time waited total:"
   ]
  },
  {
   "cell_type": "code",
   "execution_count": 288,
   "id": "498472c6",
   "metadata": {},
   "outputs": [
    {
     "data": {
      "text/plain": [
       "<AxesSubplot:xlabel='Date'>"
      ]
     },
     "execution_count": 288,
     "metadata": {},
     "output_type": "execute_result"
    },
    {
     "data": {
      "image/png": "[encoded data removed]",
      "text/plain": [
       "<Figure size 1800x720 with 1 Axes>"
      ]
     },
     "metadata": {},
     "output_type": "display_data"
    }
   ],
   "source": [
    "df_gr.groupby(df_gr[\"Date\"]).agg({\"Time_waited\":\"mean\"}).plot()"
   ]
  },
  {
   "cell_type": "markdown",
   "id": "253e2f65",
   "metadata": {},
   "source": [
    "## Evolution of time waited this week:"
   ]
  },
  {
   "cell_type": "code",
   "execution_count": 289,
   "id": "221952dc",
   "metadata": {},
   "outputs": [
    {
     "data": {
      "text/plain": [
       "<AxesSubplot:xlabel='Date'>"
      ]
     },
     "execution_count": 289,
     "metadata": {},
     "output_type": "execute_result"
    },
    {
     "data": {
      "image/png": "[encoded data removed]",
      "text/plain": [
       "<Figure size 1800x720 with 1 Axes>"
      ]
     },
     "metadata": {},
     "output_type": "display_data"
    }
   ],
   "source": [
    "df_last_week.groupby(df_last_week[\"Date\"]).agg({\"Time_waited\":\"mean\"}).plot()"
   ]
  },
  {
   "cell_type": "markdown",
   "id": "dedd066c",
   "metadata": {},
   "source": [
    "## More texted hours"
   ]
  },
  {
   "cell_type": "code",
   "execution_count": 290,
   "id": "15cea516",
   "metadata": {},
   "outputs": [
    {
     "name": "stderr",
     "output_type": "stream",
     "text": [
      "No handles with labels found to put in legend.\n"
     ]
    },
    {
     "name": "stdout",
     "output_type": "stream",
     "text": [
      "The first plot is this week, the second is all the data\n"
     ]
    },
    {
     "data": {
      "image/png": "[encoded data removed]",
      "text/plain": [
       "<Figure size 1800x720 with 2 Axes>"
      ]
     },
     "metadata": {},
     "output_type": "display_data"
    }
   ],
   "source": [
    "fig, axs = plt.subplots(ncols=2)\n",
    "\n",
    "sns.set(rc={'figure.figsize':(35,20)})\n",
    "sns.countplot(x = df_last_week[\"H\"], data = df_last_week, ax=axs[0])\n",
    "plt.legend(title='All the data')\n",
    "sns.countplot(x = df_gr[\"H\"], data = df_gr, ax=axs[1])\n",
    "print(\"The first plot is this week, the second is all the data\")"
   ]
  },
  {
   "cell_type": "markdown",
   "id": "5f3ddd45",
   "metadata": {},
   "source": [
    "## Schedule during the text"
   ]
  },
  {
   "cell_type": "code",
   "execution_count": 291,
   "id": "3a55a520",
   "metadata": {},
   "outputs": [
    {
     "name": "stderr",
     "output_type": "stream",
     "text": [
      "No handles with labels found to put in legend.\n"
     ]
    },
    {
     "name": "stdout",
     "output_type": "stream",
     "text": [
      "The first plot is this week, the second is all the data\n"
     ]
    },
    {
     "data": {
      "image/png": "[encoded data removed]",
      "text/plain": [
       "<Figure size 2520x1440 with 2 Axes>"
      ]
     },
     "metadata": {},
     "output_type": "display_data"
    }
   ],
   "source": [
    "fig, axs = plt.subplots(ncols=2)\n",
    "\n",
    "sns.set(rc={'figure.figsize':(7,3)})\n",
    "sns.countplot(x =  df_last_week[\"Schedule\"], data = df_last_week, ax=axs[0])\n",
    "plt.legend(title='All the data')\n",
    "sns.countplot(x =  df_gr[\"Schedule\"], data = df_gr, ax=axs[1])\n",
    "print(\"The first plot is this week, the second is all the data\")"
   ]
  },
  {
   "cell_type": "code",
   "execution_count": 292,
   "id": "b94aa53a",
   "metadata": {},
   "outputs": [
    {
     "name": "stderr",
     "output_type": "stream",
     "text": [
      "C:\\Users\\ENRICR~1\\AppData\\Local\\Temp/ipykernel_5108/214139498.py:3: SettingWithCopyWarning: \n",
      "A value is trying to be set on a copy of a slice from a DataFrame.\n",
      "Try using .loc[row_indexer,col_indexer] = value instead\n",
      "\n",
      "See the caveats in the documentation: https://pandas.pydata.org/pandas-docs/stable/user_guide/indexing.html#returning-a-view-versus-a-copy\n",
      "  df['Date'] = pd.to_datetime(df[\"Date\"], format = \"%d/%m/%y\")\n"
     ]
    },
    {
     "data": {
      "text/html": [
       "<div>\n",
       "<style scoped>\n",
       "    .dataframe tbody tr th:only-of-type {\n",
       "        vertical-align: middle;\n",
       "    }\n",
       "\n",
       "    .dataframe tbody tr th {\n",
       "        vertical-align: top;\n",
       "    }\n",
       "\n",
       "    .dataframe thead th {\n",
       "        text-align: right;\n",
       "    }\n",
       "</style>\n",
       "<table border=\"1\" class=\"dataframe\">\n",
       "  <thead>\n",
       "    <tr style=\"text-align: right;\">\n",
       "      <th></th>\n",
       "      <th>Date</th>\n",
       "      <th>Hour</th>\n",
       "      <th>Name</th>\n",
       "      <th>Content</th>\n",
       "      <th>Len</th>\n",
       "      <th>Date - Hour</th>\n",
       "      <th>Day_of_week</th>\n",
       "      <th>H</th>\n",
       "      <th>Hora</th>\n",
       "      <th>Schedule</th>\n",
       "      <th>Change</th>\n",
       "      <th>Count</th>\n",
       "      <th>First_H</th>\n",
       "      <th>Last_H</th>\n",
       "    </tr>\n",
       "  </thead>\n",
       "  <tbody>\n",
       "    <tr>\n",
       "      <th>10974</th>\n",
       "      <td>2021-10-17</td>\n",
       "      <td>2021-10-28 19:53:57</td>\n",
       "      <td>Berta</td>\n",
       "      <td>https</td>\n",
       "      <td>5</td>\n",
       "      <td>2021-10-17 19:53:57</td>\n",
       "      <td>Sunday</td>\n",
       "      <td>19</td>\n",
       "      <td>2021-10-28 19:53:57</td>\n",
       "      <td>No Work</td>\n",
       "      <td>1</td>\n",
       "      <td>4608</td>\n",
       "      <td>NaT</td>\n",
       "      <td>NaT</td>\n",
       "    </tr>\n",
       "    <tr>\n",
       "      <th>10975</th>\n",
       "      <td>2021-10-17</td>\n",
       "      <td>2021-10-28 19:54:15</td>\n",
       "      <td>Berta</td>\n",
       "      <td>Si vas a bruseles amb la xurri</td>\n",
       "      <td>30</td>\n",
       "      <td>2021-10-17 19:54:15</td>\n",
       "      <td>Sunday</td>\n",
       "      <td>19</td>\n",
       "      <td>2021-10-28 19:54:15</td>\n",
       "      <td>No Work</td>\n",
       "      <td>1</td>\n",
       "      <td>4608</td>\n",
       "      <td>NaT</td>\n",
       "      <td>NaT</td>\n",
       "    </tr>\n",
       "    <tr>\n",
       "      <th>10976</th>\n",
       "      <td>2021-10-17</td>\n",
       "      <td>2021-10-28 19:54:21</td>\n",
       "      <td>Berta</td>\n",
       "      <td>Aquí tens un descompte</td>\n",
       "      <td>22</td>\n",
       "      <td>2021-10-17 19:54:21</td>\n",
       "      <td>Sunday</td>\n",
       "      <td>19</td>\n",
       "      <td>2021-10-28 19:54:21</td>\n",
       "      <td>No Work</td>\n",
       "      <td>1</td>\n",
       "      <td>4608</td>\n",
       "      <td>NaT</td>\n",
       "      <td>2021-10-17 19:54:21</td>\n",
       "    </tr>\n",
       "    <tr>\n",
       "      <th>10977</th>\n",
       "      <td>2021-10-17</td>\n",
       "      <td>2021-10-28 19:56:32</td>\n",
       "      <td>Enric</td>\n",
       "      <td>jajajaja gracies papi pero ja ho hem pillat tot</td>\n",
       "      <td>47</td>\n",
       "      <td>2021-10-17 19:56:32</td>\n",
       "      <td>Sunday</td>\n",
       "      <td>19</td>\n",
       "      <td>2021-10-28 19:56:32</td>\n",
       "      <td>No Work</td>\n",
       "      <td>0</td>\n",
       "      <td>4609</td>\n",
       "      <td>2021-10-17 19:56:32</td>\n",
       "      <td>NaT</td>\n",
       "    </tr>\n",
       "    <tr>\n",
       "      <th>10978</th>\n",
       "      <td>2021-10-17</td>\n",
       "      <td>2021-10-28 19:56:39</td>\n",
       "      <td>Enric</td>\n",
       "      <td>com va anar ahir la party ?</td>\n",
       "      <td>27</td>\n",
       "      <td>2021-10-17 19:56:39</td>\n",
       "      <td>Sunday</td>\n",
       "      <td>19</td>\n",
       "      <td>2021-10-28 19:56:39</td>\n",
       "      <td>No Work</td>\n",
       "      <td>1</td>\n",
       "      <td>4609</td>\n",
       "      <td>NaT</td>\n",
       "      <td>2021-10-17 19:56:39</td>\n",
       "    </tr>\n",
       "    <tr>\n",
       "      <th>...</th>\n",
       "      <td>...</td>\n",
       "      <td>...</td>\n",
       "      <td>...</td>\n",
       "      <td>...</td>\n",
       "      <td>...</td>\n",
       "      <td>...</td>\n",
       "      <td>...</td>\n",
       "      <td>...</td>\n",
       "      <td>...</td>\n",
       "      <td>...</td>\n",
       "      <td>...</td>\n",
       "      <td>...</td>\n",
       "      <td>...</td>\n",
       "      <td>...</td>\n",
       "    </tr>\n",
       "    <tr>\n",
       "      <th>11095</th>\n",
       "      <td>2021-10-24</td>\n",
       "      <td>2021-10-28 18:18:30</td>\n",
       "      <td>Berta</td>\n",
       "      <td>Tot això es ganancia</td>\n",
       "      <td>20</td>\n",
       "      <td>2021-10-24 18:18:30</td>\n",
       "      <td>Sunday</td>\n",
       "      <td>18</td>\n",
       "      <td>2021-10-28 18:18:30</td>\n",
       "      <td>Work</td>\n",
       "      <td>1</td>\n",
       "      <td>4660</td>\n",
       "      <td>NaT</td>\n",
       "      <td>2021-10-24 18:18:30</td>\n",
       "    </tr>\n",
       "    <tr>\n",
       "      <th>11096</th>\n",
       "      <td>2021-10-24</td>\n",
       "      <td>2021-10-28 18:59:42</td>\n",
       "      <td>Enric</td>\n",
       "      <td>Pues bet365 me patrocina el bizzum no ? Jajajaj</td>\n",
       "      <td>47</td>\n",
       "      <td>2021-10-24 18:59:42</td>\n",
       "      <td>Sunday</td>\n",
       "      <td>18</td>\n",
       "      <td>2021-10-28 18:59:42</td>\n",
       "      <td>Work</td>\n",
       "      <td>0</td>\n",
       "      <td>4661</td>\n",
       "      <td>2021-10-24 18:59:42</td>\n",
       "      <td>2021-10-24 18:59:42</td>\n",
       "    </tr>\n",
       "    <tr>\n",
       "      <th>11097</th>\n",
       "      <td>2021-10-24</td>\n",
       "      <td>2021-10-28 19:00:13</td>\n",
       "      <td>Berta</td>\n",
       "      <td>Ostia si</td>\n",
       "      <td>8</td>\n",
       "      <td>2021-10-24 19:00:13</td>\n",
       "      <td>Sunday</td>\n",
       "      <td>19</td>\n",
       "      <td>2021-10-28 19:00:13</td>\n",
       "      <td>No Work</td>\n",
       "      <td>0</td>\n",
       "      <td>4662</td>\n",
       "      <td>2021-10-24 19:00:13</td>\n",
       "      <td>NaT</td>\n",
       "    </tr>\n",
       "    <tr>\n",
       "      <th>11098</th>\n",
       "      <td>2021-10-24</td>\n",
       "      <td>2021-10-28 19:00:15</td>\n",
       "      <td>Berta</td>\n",
       "      <td>Quan era?</td>\n",
       "      <td>9</td>\n",
       "      <td>2021-10-24 19:00:15</td>\n",
       "      <td>Sunday</td>\n",
       "      <td>19</td>\n",
       "      <td>2021-10-28 19:00:15</td>\n",
       "      <td>No Work</td>\n",
       "      <td>1</td>\n",
       "      <td>4662</td>\n",
       "      <td>NaT</td>\n",
       "      <td>NaT</td>\n",
       "    </tr>\n",
       "    <tr>\n",
       "      <th>11099</th>\n",
       "      <td>2021-10-27</td>\n",
       "      <td>2021-10-28 18:50:26</td>\n",
       "      <td>Berta</td>\n",
       "      <td>‎Videotrucada perduda</td>\n",
       "      <td>21</td>\n",
       "      <td>2021-10-27 18:50:26</td>\n",
       "      <td>Wednesday</td>\n",
       "      <td>18</td>\n",
       "      <td>2021-10-28 18:50:26</td>\n",
       "      <td>Work</td>\n",
       "      <td>1</td>\n",
       "      <td>4662</td>\n",
       "      <td>NaT</td>\n",
       "      <td>2021-10-27 18:50:26</td>\n",
       "    </tr>\n",
       "  </tbody>\n",
       "</table>\n",
       "<p>126 rows × 14 columns</p>\n",
       "</div>"
      ],
      "text/plain": [
       "            Date                Hour   Name  \\\n",
       "10974 2021-10-17 2021-10-28 19:53:57  Berta   \n",
       "10975 2021-10-17 2021-10-28 19:54:15  Berta   \n",
       "10976 2021-10-17 2021-10-28 19:54:21  Berta   \n",
       "10977 2021-10-17 2021-10-28 19:56:32  Enric   \n",
       "10978 2021-10-17 2021-10-28 19:56:39  Enric   \n",
       "...          ...                 ...    ...   \n",
       "11095 2021-10-24 2021-10-28 18:18:30  Berta   \n",
       "11096 2021-10-24 2021-10-28 18:59:42  Enric   \n",
       "11097 2021-10-24 2021-10-28 19:00:13  Berta   \n",
       "11098 2021-10-24 2021-10-28 19:00:15  Berta   \n",
       "11099 2021-10-27 2021-10-28 18:50:26  Berta   \n",
       "\n",
       "                                                Content  Len  \\\n",
       "10974                                             https    5   \n",
       "10975                    Si vas a bruseles amb la xurri   30   \n",
       "10976                            Aquí tens un descompte   22   \n",
       "10977   jajajaja gracies papi pero ja ho hem pillat tot   47   \n",
       "10978                       com va anar ahir la party ?   27   \n",
       "...                                                 ...  ...   \n",
       "11095                              Tot això es ganancia   20   \n",
       "11096   Pues bet365 me patrocina el bizzum no ? Jajajaj   47   \n",
       "11097                                          Ostia si    8   \n",
       "11098                                         Quan era?    9   \n",
       "11099                             ‎Videotrucada perduda   21   \n",
       "\n",
       "              Date - Hour Day_of_week   H                Hora Schedule Change  \\\n",
       "10974 2021-10-17 19:53:57      Sunday  19 2021-10-28 19:53:57  No Work      1   \n",
       "10975 2021-10-17 19:54:15      Sunday  19 2021-10-28 19:54:15  No Work      1   \n",
       "10976 2021-10-17 19:54:21      Sunday  19 2021-10-28 19:54:21  No Work      1   \n",
       "10977 2021-10-17 19:56:32      Sunday  19 2021-10-28 19:56:32  No Work      0   \n",
       "10978 2021-10-17 19:56:39      Sunday  19 2021-10-28 19:56:39  No Work      1   \n",
       "...                   ...         ...  ..                 ...      ...    ...   \n",
       "11095 2021-10-24 18:18:30      Sunday  18 2021-10-28 18:18:30     Work      1   \n",
       "11096 2021-10-24 18:59:42      Sunday  18 2021-10-28 18:59:42     Work      0   \n",
       "11097 2021-10-24 19:00:13      Sunday  19 2021-10-28 19:00:13  No Work      0   \n",
       "11098 2021-10-24 19:00:15      Sunday  19 2021-10-28 19:00:15  No Work      1   \n",
       "11099 2021-10-27 18:50:26   Wednesday  18 2021-10-28 18:50:26     Work      1   \n",
       "\n",
       "      Count             First_H              Last_H  \n",
       "10974  4608                 NaT                 NaT  \n",
       "10975  4608                 NaT                 NaT  \n",
       "10976  4608                 NaT 2021-10-17 19:54:21  \n",
       "10977  4609 2021-10-17 19:56:32                 NaT  \n",
       "10978  4609                 NaT 2021-10-17 19:56:39  \n",
       "...     ...                 ...                 ...  \n",
       "11095  4660                 NaT 2021-10-24 18:18:30  \n",
       "11096  4661 2021-10-24 18:59:42 2021-10-24 18:59:42  \n",
       "11097  4662 2021-10-24 19:00:13                 NaT  \n",
       "11098  4662                 NaT                 NaT  \n",
       "11099  4662                 NaT 2021-10-27 18:50:26  \n",
       "\n",
       "[126 rows x 14 columns]"
      ]
     },
     "execution_count": 292,
     "metadata": {},
     "output_type": "execute_result"
    }
   ],
   "source": [
    "# Crate a df without the messages  grouped of the last week:\n",
    "\n",
    "df['Date'] = pd.to_datetime(df[\"Date\"], format = \"%d/%m/%y\")\n",
    "df_week = df[df[\"Date\"]>=first_day_last_week]\n",
    "df_week"
   ]
  },
  {
   "cell_type": "markdown",
   "id": "a176ac14",
   "metadata": {},
   "source": [
    "## Len"
   ]
  },
  {
   "cell_type": "markdown",
   "id": "e85cdbf2",
   "metadata": {},
   "source": [
    "#### Historic data:"
   ]
  },
  {
   "cell_type": "code",
   "execution_count": 293,
   "id": "a919f440",
   "metadata": {},
   "outputs": [
    {
     "name": "stdout",
     "output_type": "stream",
     "text": [
      "          Len\n",
      "Name         \n",
      "Berta  110516\n",
      "Enric  151919\n",
      "AxesSubplot(0.125,0.125;0.775x0.755)\n"
     ]
    },
    {
     "data": {
      "image/png": "[encoded data removed]",
      "text/plain": [
       "<Figure size 504x216 with 1 Axes>"
      ]
     },
     "metadata": {},
     "output_type": "display_data"
    }
   ],
   "source": [
    "print(df.groupby(df[\"Name\"]).agg({\"Len\":\"sum\"}))\n",
    "print(df.groupby(df[\"Name\"]).agg({\"Len\":\"sum\"}).plot(kind= \"bar\"))"
   ]
  },
  {
   "cell_type": "markdown",
   "id": "5251698d",
   "metadata": {},
   "source": [
    "#### This week"
   ]
  },
  {
   "cell_type": "code",
   "execution_count": 294,
   "id": "58b65882",
   "metadata": {},
   "outputs": [
    {
     "name": "stdout",
     "output_type": "stream",
     "text": [
      "        Len\n",
      "Name       \n",
      "Berta  1316\n",
      "Enric   750\n"
     ]
    },
    {
     "data": {
      "text/plain": [
       "<AxesSubplot:xlabel='Name'>"
      ]
     },
     "execution_count": 294,
     "metadata": {},
     "output_type": "execute_result"
    },
    {
     "data": {
      "image/png": "[encoded data removed]",
      "text/plain": [
       "<Figure size 504x216 with 1 Axes>"
      ]
     },
     "metadata": {},
     "output_type": "display_data"
    }
   ],
   "source": [
    "print(df_week.groupby(df_week[\"Name\"]).agg({\"Len\":\"sum\"}))\n",
    "df_week.groupby(df_week[\"Name\"]).agg({\"Len\":\"sum\"}).plot(kind= \"bar\")\n",
    "\n"
   ]
  },
  {
   "cell_type": "markdown",
   "id": "293c878c",
   "metadata": {},
   "source": [
    "#### Evolution of the len of the messages"
   ]
  },
  {
   "cell_type": "code",
   "execution_count": 295,
   "id": "ff410199",
   "metadata": {},
   "outputs": [
    {
     "data": {
      "text/plain": [
       "<AxesSubplot:xlabel='Week'>"
      ]
     },
     "execution_count": 295,
     "metadata": {},
     "output_type": "execute_result"
    },
    {
     "data": {
      "image/png": "[encoded data removed]",
      "text/plain": [
       "<Figure size 504x216 with 1 Axes>"
      ]
     },
     "metadata": {},
     "output_type": "display_data"
    }
   ],
   "source": [
    "df_gr.groupby(df_gr[\"Week\"]).agg({\"Len\":\"mean\"}).plot()"
   ]
  },
  {
   "cell_type": "markdown",
   "id": "8ce4b496",
   "metadata": {},
   "source": [
    "## Number of messatges"
   ]
  },
  {
   "cell_type": "code",
   "execution_count": 296,
   "id": "78240a10",
   "metadata": {},
   "outputs": [
    {
     "name": "stderr",
     "output_type": "stream",
     "text": [
      "No handles with labels found to put in legend.\n"
     ]
    },
    {
     "name": "stdout",
     "output_type": "stream",
     "text": [
      "The first plot is this week, the second is all the data\n"
     ]
    },
    {
     "data": {
      "image/png": "[encoded data removed]",
      "text/plain": [
       "<Figure size 504x216 with 2 Axes>"
      ]
     },
     "metadata": {},
     "output_type": "display_data"
    }
   ],
   "source": [
    "fig, axs = plt.subplots(ncols=2)\n",
    "\n",
    "sns.set(rc={'figure.figsize':(15,5)})\n",
    "sns.countplot( data = df_week, x= df_week[\"Name\"], ax=axs[0])\n",
    "plt.legend(title='All the data')\n",
    "sns.countplot( data = df, x= df[\"Name\"], ax=axs[1])\n",
    "print(\"The first plot is this week, the second is all the data\")"
   ]
  },
  {
   "cell_type": "markdown",
   "id": "5c27d6dd",
   "metadata": {},
   "source": [
    "###  Evolution per weeks"
   ]
  },
  {
   "cell_type": "code",
   "execution_count": 297,
   "id": "dd6496f8",
   "metadata": {},
   "outputs": [
    {
     "data": {
      "text/plain": [
       "<AxesSubplot:xlabel='Week', ylabel='count'>"
      ]
     },
     "execution_count": 297,
     "metadata": {},
     "output_type": "execute_result"
    },
    {
     "data": {
      "image/png": "[encoded data removed]",
      "text/plain": [
       "<Figure size 1080x360 with 1 Axes>"
      ]
     },
     "metadata": {},
     "output_type": "display_data"
    }
   ],
   "source": [
    "sns.countplot( data = df_gr, x = df_gr[\"Week\"], hue =df_gr[\"Name\"] )"
   ]
  },
  {
   "cell_type": "markdown",
   "id": "7e7447ec",
   "metadata": {},
   "source": [
    "## Waiting time"
   ]
  },
  {
   "cell_type": "markdown",
   "id": "edba21f5",
   "metadata": {},
   "source": [
    "### Evolution of waiting time per week"
   ]
  },
  {
   "cell_type": "code",
   "execution_count": 298,
   "id": "7e9bc6c9",
   "metadata": {},
   "outputs": [
    {
     "data": {
      "text/plain": [
       "<AxesSubplot:xlabel='Week'>"
      ]
     },
     "execution_count": 298,
     "metadata": {},
     "output_type": "execute_result"
    },
    {
     "data": {
      "image/png": "[encoded data removed]",
      "text/plain": [
       "<Figure size 1080x360 with 1 Axes>"
      ]
     },
     "metadata": {},
     "output_type": "display_data"
    }
   ],
   "source": [
    "df_gr.groupby(df_gr[\"Week\"]).agg({\"Time_waited_in_s\":\"mean\"}).plot()"
   ]
  },
  {
   "cell_type": "code",
   "execution_count": 299,
   "id": "7e0e1ebb",
   "metadata": {},
   "outputs": [],
   "source": [
    "df_time_waited = df_gr.groupby(df_gr[\"Name\"]).agg({\"Time_waited_in_s\":\"mean\"})"
   ]
  },
  {
   "cell_type": "markdown",
   "id": "63449238",
   "metadata": {},
   "source": [
    "## Waiting time"
   ]
  },
  {
   "cell_type": "code",
   "execution_count": 300,
   "id": "dfc9da17",
   "metadata": {},
   "outputs": [
    {
     "data": {
      "text/plain": [
       "<AxesSubplot:xlabel='Name'>"
      ]
     },
     "execution_count": 300,
     "metadata": {},
     "output_type": "execute_result"
    },
    {
     "data": {
      "image/png": "[encoded data removed]",
      "text/plain": [
       "<Figure size 1080x360 with 1 Axes>"
      ]
     },
     "metadata": {},
     "output_type": "display_data"
    }
   ],
   "source": [
    "df_time_waited.plot(kind = \"bar\")"
   ]
  },
  {
   "cell_type": "code",
   "execution_count": 301,
   "id": "60f0e54c",
   "metadata": {},
   "outputs": [],
   "source": [
    "df_gr[\"Time_waited_in_s\"] = df_gr[\"Time_waited\"].dt.total_seconds()"
   ]
  },
  {
   "cell_type": "code",
   "execution_count": 302,
   "id": "a0412086",
   "metadata": {},
   "outputs": [
    {
     "data": {
      "text/plain": [
       "<AxesSubplot:xlabel='Week', ylabel='Time_waited_in_s'>"
      ]
     },
     "execution_count": 302,
     "metadata": {},
     "output_type": "execute_result"
    },
    {
     "data": {
      "image/png": "[encoded data removed]",
      "text/plain": [
       "<Figure size 1800x720 with 1 Axes>"
      ]
     },
     "metadata": {},
     "output_type": "display_data"
    }
   ],
   "source": [
    "sns.set(rc={'figure.figsize':(25,10)})\n",
    "sns.barplot( x = df_gr[\"Week\"], data = df_gr, y = df_gr[\"Time_waited_in_s\"], hue = df_gr[\"Name\"])"
   ]
  },
  {
   "cell_type": "markdown",
   "id": "71ac68a2",
   "metadata": {},
   "source": [
    "# Predict the hour of response:"
   ]
  },
  {
   "cell_type": "markdown",
   "id": "10bbb371",
   "metadata": {},
   "source": [
    "## Convert the string columns to int to fit in the model"
   ]
  },
  {
   "cell_type": "markdown",
   "id": "257e6ecc",
   "metadata": {},
   "source": [
    "### Target Variable"
   ]
  },
  {
   "cell_type": "code",
   "execution_count": 303,
   "id": "4e8c63b4",
   "metadata": {},
   "outputs": [],
   "source": [
    "df_gr[\"Time_waited_more1h\"] = np.where(df_gr[\"Time_waited\"]>= (\"0 days 1 hours\"),1, 0)"
   ]
  },
  {
   "cell_type": "markdown",
   "id": "691a5e06",
   "metadata": {},
   "source": [
    "### Name"
   ]
  },
  {
   "cell_type": "code",
   "execution_count": 304,
   "id": "780da0e4",
   "metadata": {},
   "outputs": [],
   "source": [
    "df_gr[\"Name_num\"] = np.where(df_gr[\"Name\"]== \"Enric\", 1, 0)  # Enric --> 1  Marie --> 0"
   ]
  },
  {
   "cell_type": "code",
   "execution_count": 305,
   "id": "7e11eabc",
   "metadata": {},
   "outputs": [
    {
     "data": {
      "text/html": [
       "<div>\n",
       "<style scoped>\n",
       "    .dataframe tbody tr th:only-of-type {\n",
       "        vertical-align: middle;\n",
       "    }\n",
       "\n",
       "    .dataframe tbody tr th {\n",
       "        vertical-align: top;\n",
       "    }\n",
       "\n",
       "    .dataframe thead th {\n",
       "        text-align: right;\n",
       "    }\n",
       "</style>\n",
       "<table border=\"1\" class=\"dataframe\">\n",
       "  <thead>\n",
       "    <tr style=\"text-align: right;\">\n",
       "      <th></th>\n",
       "      <th>Time_waited_more1h</th>\n",
       "    </tr>\n",
       "    <tr>\n",
       "      <th>Name_num</th>\n",
       "      <th></th>\n",
       "    </tr>\n",
       "  </thead>\n",
       "  <tbody>\n",
       "    <tr>\n",
       "      <th>0</th>\n",
       "      <td>0.156518</td>\n",
       "    </tr>\n",
       "    <tr>\n",
       "      <th>1</th>\n",
       "      <td>0.111540</td>\n",
       "    </tr>\n",
       "  </tbody>\n",
       "</table>\n",
       "</div>"
      ],
      "text/plain": [
       "          Time_waited_more1h\n",
       "Name_num                    \n",
       "0                   0.156518\n",
       "1                   0.111540"
      ]
     },
     "execution_count": 305,
     "metadata": {},
     "output_type": "execute_result"
    }
   ],
   "source": [
    "df_gr.groupby(df_gr[\"Name_num\"]).agg({\"Time_waited_more1h\":\"mean\"})"
   ]
  },
  {
   "cell_type": "markdown",
   "id": "0ff0b607",
   "metadata": {},
   "source": [
    "### Schedule"
   ]
  },
  {
   "cell_type": "code",
   "execution_count": 306,
   "id": "c89a9744",
   "metadata": {},
   "outputs": [],
   "source": [
    "def Schedule_to_int(hour):\n",
    "    if (hour == \"Work\"):\n",
    "        return 1\n",
    "    if (hour == \"No Work\"):\n",
    "        return 2\n",
    "    if (hour == \"Night\"):\n",
    "        return 3\n",
    "df_gr[\"Schedule_int\"] = df_gr[\"Schedule\"].apply(Schedule_to_int)  "
   ]
  },
  {
   "cell_type": "code",
   "execution_count": 307,
   "id": "dfadc9e5",
   "metadata": {},
   "outputs": [
    {
     "data": {
      "text/html": [
       "<div>\n",
       "<style scoped>\n",
       "    .dataframe tbody tr th:only-of-type {\n",
       "        vertical-align: middle;\n",
       "    }\n",
       "\n",
       "    .dataframe tbody tr th {\n",
       "        vertical-align: top;\n",
       "    }\n",
       "\n",
       "    .dataframe thead th {\n",
       "        text-align: right;\n",
       "    }\n",
       "</style>\n",
       "<table border=\"1\" class=\"dataframe\">\n",
       "  <thead>\n",
       "    <tr style=\"text-align: right;\">\n",
       "      <th></th>\n",
       "      <th>Time_waited_more1h</th>\n",
       "    </tr>\n",
       "    <tr>\n",
       "      <th>Schedule_int</th>\n",
       "      <th></th>\n",
       "    </tr>\n",
       "  </thead>\n",
       "  <tbody>\n",
       "    <tr>\n",
       "      <th>1</th>\n",
       "      <td>0.140934</td>\n",
       "    </tr>\n",
       "    <tr>\n",
       "      <th>2</th>\n",
       "      <td>0.129131</td>\n",
       "    </tr>\n",
       "    <tr>\n",
       "      <th>3</th>\n",
       "      <td>0.126102</td>\n",
       "    </tr>\n",
       "  </tbody>\n",
       "</table>\n",
       "</div>"
      ],
      "text/plain": [
       "              Time_waited_more1h\n",
       "Schedule_int                    \n",
       "1                       0.140934\n",
       "2                       0.129131\n",
       "3                       0.126102"
      ]
     },
     "execution_count": 307,
     "metadata": {},
     "output_type": "execute_result"
    }
   ],
   "source": [
    "df_gr.groupby(df_gr[\"Schedule_int\"]).agg({\"Time_waited_more1h\":\"mean\"})"
   ]
  },
  {
   "cell_type": "markdown",
   "id": "9a45ad0e",
   "metadata": {},
   "source": [
    "### Day of the week"
   ]
  },
  {
   "cell_type": "code",
   "execution_count": 308,
   "id": "d49d401b",
   "metadata": {},
   "outputs": [],
   "source": [
    "df_gr[\"Day_of_week\"] = df_gr[\"Date - Hour\"].dt.dayofweek"
   ]
  },
  {
   "cell_type": "code",
   "execution_count": 309,
   "id": "01b07598",
   "metadata": {},
   "outputs": [
    {
     "data": {
      "text/html": [
       "<div>\n",
       "<style scoped>\n",
       "    .dataframe tbody tr th:only-of-type {\n",
       "        vertical-align: middle;\n",
       "    }\n",
       "\n",
       "    .dataframe tbody tr th {\n",
       "        vertical-align: top;\n",
       "    }\n",
       "\n",
       "    .dataframe thead th {\n",
       "        text-align: right;\n",
       "    }\n",
       "</style>\n",
       "<table border=\"1\" class=\"dataframe\">\n",
       "  <thead>\n",
       "    <tr style=\"text-align: right;\">\n",
       "      <th></th>\n",
       "      <th>Time_waited_more1h</th>\n",
       "    </tr>\n",
       "    <tr>\n",
       "      <th>Day_of_week</th>\n",
       "      <th></th>\n",
       "    </tr>\n",
       "  </thead>\n",
       "  <tbody>\n",
       "    <tr>\n",
       "      <th>0</th>\n",
       "      <td>0.166045</td>\n",
       "    </tr>\n",
       "    <tr>\n",
       "      <th>1</th>\n",
       "      <td>0.116386</td>\n",
       "    </tr>\n",
       "    <tr>\n",
       "      <th>2</th>\n",
       "      <td>0.076835</td>\n",
       "    </tr>\n",
       "    <tr>\n",
       "      <th>3</th>\n",
       "      <td>0.142857</td>\n",
       "    </tr>\n",
       "    <tr>\n",
       "      <th>4</th>\n",
       "      <td>0.175719</td>\n",
       "    </tr>\n",
       "    <tr>\n",
       "      <th>5</th>\n",
       "      <td>0.163793</td>\n",
       "    </tr>\n",
       "    <tr>\n",
       "      <th>6</th>\n",
       "      <td>0.126270</td>\n",
       "    </tr>\n",
       "  </tbody>\n",
       "</table>\n",
       "</div>"
      ],
      "text/plain": [
       "             Time_waited_more1h\n",
       "Day_of_week                    \n",
       "0                      0.166045\n",
       "1                      0.116386\n",
       "2                      0.076835\n",
       "3                      0.142857\n",
       "4                      0.175719\n",
       "5                      0.163793\n",
       "6                      0.126270"
      ]
     },
     "execution_count": 309,
     "metadata": {},
     "output_type": "execute_result"
    }
   ],
   "source": [
    "df_gr.groupby(df_gr[\"Day_of_week\"]).agg({\"Time_waited_more1h\":\"mean\"})"
   ]
  },
  {
   "cell_type": "markdown",
   "id": "7a7a2f1b",
   "metadata": {},
   "source": [
    "### Group the Len:"
   ]
  },
  {
   "cell_type": "code",
   "execution_count": 310,
   "id": "29c84716",
   "metadata": {},
   "outputs": [],
   "source": [
    "def group_len (len_):\n",
    "    if (len_ >= 90):\n",
    "        return 1\n",
    "    if (len_ >= 40) and (len_ < 90):\n",
    "        return 2\n",
    "    else:\n",
    "        return 3\n",
    "    \n",
    "df_gr[\"group_Len\"] = df_gr[\"Len\"].apply(group_len)"
   ]
  },
  {
   "cell_type": "code",
   "execution_count": 311,
   "id": "daf7130f",
   "metadata": {},
   "outputs": [
    {
     "data": {
      "text/html": [
       "<div>\n",
       "<style scoped>\n",
       "    .dataframe tbody tr th:only-of-type {\n",
       "        vertical-align: middle;\n",
       "    }\n",
       "\n",
       "    .dataframe tbody tr th {\n",
       "        vertical-align: top;\n",
       "    }\n",
       "\n",
       "    .dataframe thead tr th {\n",
       "        text-align: left;\n",
       "    }\n",
       "\n",
       "    .dataframe thead tr:last-of-type th {\n",
       "        text-align: right;\n",
       "    }\n",
       "</style>\n",
       "<table border=\"1\" class=\"dataframe\">\n",
       "  <thead>\n",
       "    <tr>\n",
       "      <th></th>\n",
       "      <th colspan=\"2\" halign=\"left\">Time_waited_more1h</th>\n",
       "    </tr>\n",
       "    <tr>\n",
       "      <th></th>\n",
       "      <th>mean</th>\n",
       "      <th>count</th>\n",
       "    </tr>\n",
       "    <tr>\n",
       "      <th>group_Len</th>\n",
       "      <th></th>\n",
       "      <th></th>\n",
       "    </tr>\n",
       "  </thead>\n",
       "  <tbody>\n",
       "    <tr>\n",
       "      <th>1</th>\n",
       "      <td>0.189415</td>\n",
       "      <td>359</td>\n",
       "    </tr>\n",
       "    <tr>\n",
       "      <th>2</th>\n",
       "      <td>0.116764</td>\n",
       "      <td>1199</td>\n",
       "    </tr>\n",
       "    <tr>\n",
       "      <th>3</th>\n",
       "      <td>0.134300</td>\n",
       "      <td>3105</td>\n",
       "    </tr>\n",
       "  </tbody>\n",
       "</table>\n",
       "</div>"
      ],
      "text/plain": [
       "          Time_waited_more1h      \n",
       "                        mean count\n",
       "group_Len                         \n",
       "1                   0.189415   359\n",
       "2                   0.116764  1199\n",
       "3                   0.134300  3105"
      ]
     },
     "execution_count": 311,
     "metadata": {},
     "output_type": "execute_result"
    }
   ],
   "source": [
    "df_gr.groupby(df_gr[\"group_Len\"]).agg({\"Time_waited_more1h\":[\"mean\",\"count\"]})"
   ]
  },
  {
   "cell_type": "code",
   "execution_count": 312,
   "id": "6f071166",
   "metadata": {},
   "outputs": [
    {
     "data": {
      "text/plain": [
       "0.134033883765816"
      ]
     },
     "execution_count": 312,
     "metadata": {},
     "output_type": "execute_result"
    }
   ],
   "source": [
    "df_gr[\"Time_waited_more1h\"].mean()"
   ]
  },
  {
   "cell_type": "code",
   "execution_count": 313,
   "id": "a84021c8",
   "metadata": {},
   "outputs": [
    {
     "data": {
      "text/plain": [
       "<AxesSubplot:xlabel='Len', ylabel='Time_waited_in_s'>"
      ]
     },
     "execution_count": 313,
     "metadata": {},
     "output_type": "execute_result"
    },
    {
     "data": {
      "image/png": "[encoded data removed]",
      "text/plain": [
       "<Figure size 1800x720 with 1 Axes>"
      ]
     },
     "metadata": {},
     "output_type": "display_data"
    }
   ],
   "source": [
    "sns.regplot(data = df_gr, x = df_gr[\"Len\"], y = df_gr[\"Time_waited_in_s\"])"
   ]
  },
  {
   "cell_type": "code",
   "execution_count": 314,
   "id": "faac5a3d",
   "metadata": {},
   "outputs": [
    {
     "data": {
      "text/plain": [
       "<AxesSubplot:xlabel='Len', ylabel='count'>"
      ]
     },
     "execution_count": 314,
     "metadata": {},
     "output_type": "execute_result"
    },
    {
     "data": {
      "image/png": "[encoded data removed]",
      "text/plain": [
       "<Figure size 1800x720 with 1 Axes>"
      ]
     },
     "metadata": {},
     "output_type": "display_data"
    }
   ],
   "source": [
    "sns.countplot(data = df_gr, x = df_gr[\"Len\"])"
   ]
  },
  {
   "cell_type": "markdown",
   "id": "557afb4a",
   "metadata": {},
   "source": [
    "## Create a column of time waited in the message above"
   ]
  },
  {
   "cell_type": "code",
   "execution_count": 315,
   "id": "224aac38",
   "metadata": {},
   "outputs": [
    {
     "name": "stderr",
     "output_type": "stream",
     "text": [
      "C:\\Users\\Enric Roda\\anaconda3\\envs\\kik_project\\lib\\site-packages\\pandas\\core\\indexing.py:1732: SettingWithCopyWarning: \n",
      "A value is trying to be set on a copy of a slice from a DataFrame\n",
      "\n",
      "See the caveats in the documentation: https://pandas.pydata.org/pandas-docs/stable/user_guide/indexing.html#returning-a-view-versus-a-copy\n",
      "  self._setitem_single_block(indexer, value, name)\n"
     ]
    }
   ],
   "source": [
    "i = 1 \n",
    "total_rows = df_gr[\"Schedule\"].count() -1\n",
    "\n",
    "df_gr[\"Time_Waited_before\"] = \"\"\n",
    "while i <= total_rows:\n",
    "        \n",
    "    df_gr[\"Time_Waited_before\"].iloc[i] = df_gr[\"Time_waited\"].iloc[i -1]\n",
    "    \n",
    "    i = i +1\n",
    "    "
   ]
  },
  {
   "cell_type": "code",
   "execution_count": 316,
   "id": "75430040",
   "metadata": {},
   "outputs": [],
   "source": [
    "# Delet the first row because we don't have time waite before \n",
    "df_gr = df_gr.iloc[1: , :]"
   ]
  },
  {
   "cell_type": "markdown",
   "id": "8fd1a42b",
   "metadata": {},
   "source": [
    "### Group the mensatges of the time waited to receive the message"
   ]
  },
  {
   "cell_type": "code",
   "execution_count": 317,
   "id": "7710dcd1",
   "metadata": {},
   "outputs": [
    {
     "name": "stderr",
     "output_type": "stream",
     "text": [
      "C:\\Users\\ENRICR~1\\AppData\\Local\\Temp/ipykernel_5108/2592993230.py:9: SettingWithCopyWarning: \n",
      "A value is trying to be set on a copy of a slice from a DataFrame.\n",
      "Try using .loc[row_indexer,col_indexer] = value instead\n",
      "\n",
      "See the caveats in the documentation: https://pandas.pydata.org/pandas-docs/stable/user_guide/indexing.html#returning-a-view-versus-a-copy\n",
      "  df_gr[\"Wait_time_before_group\"] = df_gr[\"Time_Waited_before\"].apply(wait_time_before)\n"
     ]
    }
   ],
   "source": [
    "def wait_time_before (h):\n",
    "    if (h >= pd.Timedelta(\"0 days 1 hours\") ):\n",
    "        return 1\n",
    "    if (h >= pd.Timedelta(\"0 days 0 hours 15 minutes\") ):\n",
    "        return 2\n",
    "    else:\n",
    "        return 3\n",
    "    \n",
    "df_gr[\"Wait_time_before_group\"] = df_gr[\"Time_Waited_before\"].apply(wait_time_before)"
   ]
  },
  {
   "cell_type": "code",
   "execution_count": 318,
   "id": "db6bf862",
   "metadata": {},
   "outputs": [
    {
     "data": {
      "text/html": [
       "<div>\n",
       "<style scoped>\n",
       "    .dataframe tbody tr th:only-of-type {\n",
       "        vertical-align: middle;\n",
       "    }\n",
       "\n",
       "    .dataframe tbody tr th {\n",
       "        vertical-align: top;\n",
       "    }\n",
       "\n",
       "    .dataframe thead tr th {\n",
       "        text-align: left;\n",
       "    }\n",
       "\n",
       "    .dataframe thead tr:last-of-type th {\n",
       "        text-align: right;\n",
       "    }\n",
       "</style>\n",
       "<table border=\"1\" class=\"dataframe\">\n",
       "  <thead>\n",
       "    <tr>\n",
       "      <th></th>\n",
       "      <th colspan=\"2\" halign=\"left\">Time_waited_more1h</th>\n",
       "    </tr>\n",
       "    <tr>\n",
       "      <th></th>\n",
       "      <th>mean</th>\n",
       "      <th>count</th>\n",
       "    </tr>\n",
       "    <tr>\n",
       "      <th>Wait_time_before_group</th>\n",
       "      <th></th>\n",
       "      <th></th>\n",
       "    </tr>\n",
       "  </thead>\n",
       "  <tbody>\n",
       "    <tr>\n",
       "      <th>1</th>\n",
       "      <td>0.331200</td>\n",
       "      <td>625</td>\n",
       "    </tr>\n",
       "    <tr>\n",
       "      <th>2</th>\n",
       "      <td>0.215800</td>\n",
       "      <td>519</td>\n",
       "    </tr>\n",
       "    <tr>\n",
       "      <th>3</th>\n",
       "      <td>0.086981</td>\n",
       "      <td>3518</td>\n",
       "    </tr>\n",
       "  </tbody>\n",
       "</table>\n",
       "</div>"
      ],
      "text/plain": [
       "                       Time_waited_more1h      \n",
       "                                     mean count\n",
       "Wait_time_before_group                         \n",
       "1                                0.331200   625\n",
       "2                                0.215800   519\n",
       "3                                0.086981  3518"
      ]
     },
     "execution_count": 318,
     "metadata": {},
     "output_type": "execute_result"
    }
   ],
   "source": [
    "df_gr.groupby(df_gr[\"Wait_time_before_group\"]).agg({\"Time_waited_more1h\":[\"mean\",\"count\"]})"
   ]
  },
  {
   "cell_type": "markdown",
   "id": "766668b7",
   "metadata": {},
   "source": [
    "## Create a df for the model"
   ]
  },
  {
   "cell_type": "code",
   "execution_count": 319,
   "id": "2602dd52",
   "metadata": {},
   "outputs": [],
   "source": [
    "columns_model = [\"Day_of_week\", \"H\", \"Name_num\", \"Schedule_int\", \"group_Len\", \"Wait_time_before_group\", \"Time_waited_more1h\"]"
   ]
  },
  {
   "cell_type": "code",
   "execution_count": 320,
   "id": "8e7b8da1",
   "metadata": {},
   "outputs": [],
   "source": [
    "df_model = df_gr[columns_model]"
   ]
  },
  {
   "cell_type": "code",
   "execution_count": 321,
   "id": "e3e57924",
   "metadata": {
    "scrolled": true
   },
   "outputs": [
    {
     "data": {
      "text/html": [
       "<div>\n",
       "<style scoped>\n",
       "    .dataframe tbody tr th:only-of-type {\n",
       "        vertical-align: middle;\n",
       "    }\n",
       "\n",
       "    .dataframe tbody tr th {\n",
       "        vertical-align: top;\n",
       "    }\n",
       "\n",
       "    .dataframe thead th {\n",
       "        text-align: right;\n",
       "    }\n",
       "</style>\n",
       "<table border=\"1\" class=\"dataframe\">\n",
       "  <thead>\n",
       "    <tr style=\"text-align: right;\">\n",
       "      <th></th>\n",
       "      <th>Day_of_week</th>\n",
       "      <th>H</th>\n",
       "      <th>Name_num</th>\n",
       "      <th>Schedule_int</th>\n",
       "      <th>group_Len</th>\n",
       "      <th>Wait_time_before_group</th>\n",
       "      <th>Time_waited_more1h</th>\n",
       "    </tr>\n",
       "    <tr>\n",
       "      <th>Count</th>\n",
       "      <th></th>\n",
       "      <th></th>\n",
       "      <th></th>\n",
       "      <th></th>\n",
       "      <th></th>\n",
       "      <th></th>\n",
       "      <th></th>\n",
       "    </tr>\n",
       "  </thead>\n",
       "  <tbody>\n",
       "    <tr>\n",
       "      <th>1</th>\n",
       "      <td>6</td>\n",
       "      <td>15</td>\n",
       "      <td>1</td>\n",
       "      <td>1</td>\n",
       "      <td>3</td>\n",
       "      <td>2</td>\n",
       "      <td>0</td>\n",
       "    </tr>\n",
       "    <tr>\n",
       "      <th>2</th>\n",
       "      <td>6</td>\n",
       "      <td>18</td>\n",
       "      <td>0</td>\n",
       "      <td>1</td>\n",
       "      <td>1</td>\n",
       "      <td>3</td>\n",
       "      <td>0</td>\n",
       "    </tr>\n",
       "    <tr>\n",
       "      <th>3</th>\n",
       "      <td>6</td>\n",
       "      <td>18</td>\n",
       "      <td>1</td>\n",
       "      <td>1</td>\n",
       "      <td>3</td>\n",
       "      <td>3</td>\n",
       "      <td>0</td>\n",
       "    </tr>\n",
       "    <tr>\n",
       "      <th>4</th>\n",
       "      <td>6</td>\n",
       "      <td>18</td>\n",
       "      <td>0</td>\n",
       "      <td>1</td>\n",
       "      <td>2</td>\n",
       "      <td>3</td>\n",
       "      <td>0</td>\n",
       "    </tr>\n",
       "    <tr>\n",
       "      <th>5</th>\n",
       "      <td>6</td>\n",
       "      <td>18</td>\n",
       "      <td>1</td>\n",
       "      <td>1</td>\n",
       "      <td>3</td>\n",
       "      <td>3</td>\n",
       "      <td>0</td>\n",
       "    </tr>\n",
       "    <tr>\n",
       "      <th>...</th>\n",
       "      <td>...</td>\n",
       "      <td>...</td>\n",
       "      <td>...</td>\n",
       "      <td>...</td>\n",
       "      <td>...</td>\n",
       "      <td>...</td>\n",
       "      <td>...</td>\n",
       "    </tr>\n",
       "    <tr>\n",
       "      <th>4658</th>\n",
       "      <td>5</td>\n",
       "      <td>0</td>\n",
       "      <td>0</td>\n",
       "      <td>3</td>\n",
       "      <td>3</td>\n",
       "      <td>1</td>\n",
       "      <td>0</td>\n",
       "    </tr>\n",
       "    <tr>\n",
       "      <th>4659</th>\n",
       "      <td>6</td>\n",
       "      <td>18</td>\n",
       "      <td>1</td>\n",
       "      <td>1</td>\n",
       "      <td>3</td>\n",
       "      <td>3</td>\n",
       "      <td>0</td>\n",
       "    </tr>\n",
       "    <tr>\n",
       "      <th>4660</th>\n",
       "      <td>6</td>\n",
       "      <td>18</td>\n",
       "      <td>0</td>\n",
       "      <td>1</td>\n",
       "      <td>3</td>\n",
       "      <td>3</td>\n",
       "      <td>0</td>\n",
       "    </tr>\n",
       "    <tr>\n",
       "      <th>4661</th>\n",
       "      <td>6</td>\n",
       "      <td>18</td>\n",
       "      <td>1</td>\n",
       "      <td>1</td>\n",
       "      <td>2</td>\n",
       "      <td>2</td>\n",
       "      <td>0</td>\n",
       "    </tr>\n",
       "    <tr>\n",
       "      <th>4662</th>\n",
       "      <td>6</td>\n",
       "      <td>19</td>\n",
       "      <td>0</td>\n",
       "      <td>2</td>\n",
       "      <td>3</td>\n",
       "      <td>3</td>\n",
       "      <td>0</td>\n",
       "    </tr>\n",
       "  </tbody>\n",
       "</table>\n",
       "<p>4662 rows × 7 columns</p>\n",
       "</div>"
      ],
      "text/plain": [
       "       Day_of_week   H  Name_num  Schedule_int  group_Len  \\\n",
       "Count                                                       \n",
       "1                6  15         1             1          3   \n",
       "2                6  18         0             1          1   \n",
       "3                6  18         1             1          3   \n",
       "4                6  18         0             1          2   \n",
       "5                6  18         1             1          3   \n",
       "...            ...  ..       ...           ...        ...   \n",
       "4658             5   0         0             3          3   \n",
       "4659             6  18         1             1          3   \n",
       "4660             6  18         0             1          3   \n",
       "4661             6  18         1             1          2   \n",
       "4662             6  19         0             2          3   \n",
       "\n",
       "       Wait_time_before_group  Time_waited_more1h  \n",
       "Count                                              \n",
       "1                           2                   0  \n",
       "2                           3                   0  \n",
       "3                           3                   0  \n",
       "4                           3                   0  \n",
       "5                           3                   0  \n",
       "...                       ...                 ...  \n",
       "4658                        1                   0  \n",
       "4659                        3                   0  \n",
       "4660                        3                   0  \n",
       "4661                        2                   0  \n",
       "4662                        3                   0  \n",
       "\n",
       "[4662 rows x 7 columns]"
      ]
     },
     "execution_count": 321,
     "metadata": {},
     "output_type": "execute_result"
    }
   ],
   "source": [
    "df_model"
   ]
  },
  {
   "cell_type": "code",
   "execution_count": 322,
   "id": "783d9398",
   "metadata": {},
   "outputs": [
    {
     "name": "stdout",
     "output_type": "stream",
     "text": [
      "Day_of_week\n",
      "[[1.         0.02161616]\n",
      " [0.02161616 1.        ]]\n",
      "________________________________________________________\n",
      "H\n",
      "[[ 1.         -0.11019577]\n",
      " [-0.11019577  1.        ]]\n",
      "________________________________________________________\n",
      "Name_num\n",
      "[[ 1.         -0.06610281]\n",
      " [-0.06610281  1.        ]]\n",
      "________________________________________________________\n",
      "Schedule_int\n",
      "[[ 1.         -0.01887685]\n",
      " [-0.01887685  1.        ]]\n",
      "________________________________________________________\n",
      "group_Len\n",
      "[[ 1.         -0.01900694]\n",
      " [-0.01900694  1.        ]]\n",
      "________________________________________________________\n",
      "Wait_time_before_group\n",
      "[[ 1.         -0.25624349]\n",
      " [-0.25624349  1.        ]]\n",
      "________________________________________________________\n",
      "Time_waited_more1h\n",
      "[[1. 1.]\n",
      " [1. 1.]]\n",
      "________________________________________________________\n"
     ]
    }
   ],
   "source": [
    "#  Display the correlation of each feature of model\n",
    "\n",
    "GL = df_model[\"Time_waited_more1h\"]\n",
    "\n",
    "for col in columns_model:\n",
    "    print(df_model[col].name)\n",
    "    print(np.corrcoef(GL, df_model[col]))\n",
    "    print(\"________________________________________________________\")"
   ]
  },
  {
   "cell_type": "markdown",
   "id": "af5d0cba",
   "metadata": {},
   "source": [
    "# Logistic regression"
   ]
  },
  {
   "cell_type": "markdown",
   "id": "9182df14",
   "metadata": {},
   "source": [
    "## Split the data:"
   ]
  },
  {
   "cell_type": "code",
   "execution_count": 323,
   "id": "4d8b63da",
   "metadata": {},
   "outputs": [],
   "source": [
    "# Features:\n",
    "features = df_model.drop(\"Time_waited_more1h\", axis = 1) .values\n",
    "\n",
    "# Target variable:    \n",
    "target_var = df_model[\"Time_waited_more1h\"]"
   ]
  },
  {
   "cell_type": "code",
   "execution_count": 324,
   "id": "a6ebd8d1",
   "metadata": {},
   "outputs": [],
   "source": [
    "# Train/test\n",
    "X_train, X_test, Y_train, Y_test = train_test_split(features, target_var, train_size = 0.8, test_size = 0.2, random_state = 15)"
   ]
  },
  {
   "cell_type": "code",
   "execution_count": 325,
   "id": "be6accb7",
   "metadata": {},
   "outputs": [
    {
     "data": {
      "text/plain": [
       "0    0.854234\n",
       "1    0.145766\n",
       "Name: Time_waited_more1h, dtype: float64"
      ]
     },
     "execution_count": 325,
     "metadata": {},
     "output_type": "execute_result"
    },
    {
     "data": {
      "image/png": "[encoded data removed]",
      "text/plain": [
       "<Figure size 1800x720 with 1 Axes>"
      ]
     },
     "metadata": {},
     "output_type": "display_data"
    }
   ],
   "source": [
    "# Se the distribution in the first train:\n",
    "ax = sns.countplot(x=Y_train )\n",
    "Y_test.value_counts(normalize =True)"
   ]
  },
  {
   "cell_type": "markdown",
   "id": "85f7054c",
   "metadata": {},
   "source": [
    "## Fit the test and Train to the model"
   ]
  },
  {
   "cell_type": "code",
   "execution_count": 326,
   "id": "57d69577",
   "metadata": {},
   "outputs": [
    {
     "data": {
      "text/plain": [
       "LogisticRegression(random_state=10)"
      ]
     },
     "execution_count": 326,
     "metadata": {},
     "output_type": "execute_result"
    }
   ],
   "source": [
    "# Logisstic Regression\n",
    "\n",
    "log_reg = LogisticRegression(random_state = 10, solver = \"lbfgs\")    \n",
    "log_reg.fit(X_train, Y_train)"
   ]
  },
  {
   "cell_type": "code",
   "execution_count": 327,
   "id": "20ad2e18",
   "metadata": {},
   "outputs": [
    {
     "data": {
      "text/plain": [
       "array([0, 0, 0, ..., 0, 0, 0])"
      ]
     },
     "execution_count": 327,
     "metadata": {},
     "output_type": "execute_result"
    }
   ],
   "source": [
    "# Array of predictions:\n",
    "y_predict = log_reg.predict(X_train)\n",
    "y_predict\n"
   ]
  },
  {
   "cell_type": "code",
   "execution_count": 328,
   "id": "82303c23",
   "metadata": {
    "scrolled": true
   },
   "outputs": [
    {
     "data": {
      "image/png": "[encoded data removed]",
      "text/plain": [
       "<Figure size 1800x720 with 1 Axes>"
      ]
     },
     "metadata": {},
     "output_type": "display_data"
    }
   ],
   "source": [
    "sns.countplot( x = y_predict, data = df )\n",
    "unique, counts = np.unique(y_predict, return_counts=True)"
   ]
  },
  {
   "cell_type": "code",
   "execution_count": 329,
   "id": "b457a828",
   "metadata": {},
   "outputs": [],
   "source": [
    "pred_pr = log_reg.predict_proba(X_train)"
   ]
  },
  {
   "cell_type": "markdown",
   "id": "cf26e06b",
   "metadata": {},
   "source": [
    "## Results"
   ]
  },
  {
   "cell_type": "code",
   "execution_count": 330,
   "id": "e00723e5",
   "metadata": {},
   "outputs": [
    {
     "name": "stdout",
     "output_type": "stream",
     "text": [
      " \n",
      "The Training Accurecy is:  0.8677929739876643\n",
      " \n",
      "The Test Accurecy is:  0.8542336548767417\n"
     ]
    }
   ],
   "source": [
    "#Accuracy Train:\n",
    "Training_Accurecy = log_reg.score(X_train, Y_train)\n",
    "print(\" \")\n",
    "print(\"The Training Accurecy is: \", log_reg.score(X_train, Y_train))\n",
    "print(\" \")\n",
    "#Accuracy Train:\n",
    "print(\"The Test Accurecy is: \", log_reg.score(X_test, Y_test))"
   ]
  },
  {
   "cell_type": "code",
   "execution_count": 331,
   "id": "360ed21b",
   "metadata": {},
   "outputs": [
    {
     "data": {
      "text/plain": [
       "array([[3220,   20],\n",
       "       [ 473,   16]], dtype=int64)"
      ]
     },
     "execution_count": 331,
     "metadata": {},
     "output_type": "execute_result"
    }
   ],
   "source": [
    "CM = confusion_matrix(Y_train, y_predict) \n",
    "CM\n",
    "# Corrects predicted less 1h  , Incorrects predicted less 1h\n",
    "# Incorrects predicted more 1h, Corrects predicted more that 1h "
   ]
  },
  {
   "cell_type": "markdown",
   "id": "46e43fef",
   "metadata": {},
   "source": [
    "# Predict the last message:"
   ]
  },
  {
   "cell_type": "code",
   "execution_count": 332,
   "id": "f8766a6e",
   "metadata": {},
   "outputs": [
    {
     "name": "stdout",
     "output_type": "stream",
     "text": [
      "The prediction is that Berta won't have to wait more than one hour with a 10.00% of an error\n",
      "So the odds to get the answer in less than 1h is of: 90.00%\n"
     ]
    }
   ],
   "source": [
    "# Get just the las row to fit it in the model:\n",
    "last_msn = df_model[-1:].drop(\"Time_waited_more1h\", axis = 1) .values\n",
    "# Return \"Yes\" or \"No\"\n",
    "reply_less_1h = log_reg.predict(last_msn)\n",
    "# Return the prob\n",
    "proba_each = log_reg.predict_proba(last_msn)\n",
    "\n",
    "name_last_row = df_gr[\"Name\"].iloc[-1]\n",
    "\n",
    "more_1h_prob = proba_each[0][1]\n",
    "odds_more_1h = \"{:.2%}\".format(more_1h_prob)\n",
    "\n",
    "less_1h_prob = proba_each[0][0]\n",
    "odds_less_1h = \"{:.2%}\".format(less_1h_prob)\n",
    "\n",
    "\n",
    "if reply_less_1h == 0:\n",
    "    print(\"The prediction is that\", name_last_row, \"won't have to wait more than one hour with a\", odds_more_1h , \"of an error\")\n",
    "    print(\"So the odds to get the answer in less than 1h is of:\",odds_less_1h )\n",
    "else:\n",
    "    print(\"The prediction is that\", name_last_row, \"will have to wait more than one hour with a\", odds_less_1h , \"of an error\")\n",
    "    print(\"So the odds to get the answer in more than 1h is of:\",odds_less_1h )"
   ]
  },
  {
   "cell_type": "code",
   "execution_count": null,
   "id": "eb14637d",
   "metadata": {},
   "outputs": [],
   "source": []
  }
 ],
 "metadata": {
  "kernelspec": {
   "display_name": "Python 3 (ipykernel)",
   "language": "python",
   "name": "python3"
  },
  "language_info": {
   "codemirror_mode": {
    "name": "ipython",
    "version": 3
   },
   "file_extension": ".py",
   "mimetype": "text/x-python",
   "name": "python",
   "nbconvert_exporter": "python",
   "pygments_lexer": "ipython3",
   "version": "3.9.6"
  },
  "toc": {
   "base_numbering": 1,
   "nav_menu": {},
   "number_sections": true,
   "sideBar": true,
   "skip_h1_title": false,
   "title_cell": "Table of Contents",
   "title_sidebar": "Contents",
   "toc_cell": false,
   "toc_position": {
    "height": "calc(100% - 180px)",
    "left": "10px",
    "top": "150px",
    "width": "318.094px"
   },
   "toc_section_display": true,
   "toc_window_display": true
  },
  "varInspector": {
   "cols": {
    "lenName": 16,
    "lenType": 16,
    "lenVar": 40
   },
   "kernels_config": {
    "python": {
     "delete_cmd_postfix": "",
     "delete_cmd_prefix": "del ",
     "library": "var_list.py",
     "varRefreshCmd": "print(var_dic_list())"
    },
    "r": {
     "delete_cmd_postfix": ") ",
     "delete_cmd_prefix": "rm(",
     "library": "var_list.r",
     "varRefreshCmd": "cat(var_dic_list()) "
    }
   },
   "types_to_exclude": [
    "module",
    "function",
    "builtin_function_or_method",
    "instance",
    "_Feature"
   ],
   "window_display": false
  }
 },
 "nbformat": 4,
 "nbformat_minor": 5
}
